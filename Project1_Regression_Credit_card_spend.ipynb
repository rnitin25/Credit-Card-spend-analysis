{
 "cells": [
  {
   "cell_type": "markdown",
   "metadata": {},
   "source": [
    "# Project-1 (Regression)\n",
    "## Credit Card Spend Prediction & Identifying Key Drivers\n",
    "#### By Nitin Rana - rnitin25@gmail.com"
   ]
  },
  {
   "cell_type": "code",
   "execution_count": 1,
   "metadata": {},
   "outputs": [],
   "source": [
    "# import packages \n",
    "\n",
    "import pandas as pd\n",
    "import numpy as np\n",
    "%matplotlib inline\n",
    "import matplotlib.pyplot as plt\n",
    "import seaborn as sns\n",
    "import scipy.stats as stats\n",
    "from scipy.special import inv_boxcox\n",
    "import itertools\n",
    "import sklearn.metrics as metrics\n",
    "\n",
    "import warnings\n",
    "warnings.filterwarnings('ignore')\n",
    "\n",
    "#These will help you to see all records as well as columns in the data set\n",
    "#pd.set_option('display.max_rows', 500)\n",
    "#pd.set_option('display.max_columns', 500)\n",
    "#pd.set_option('display.width', 1000)"
   ]
  },
  {
   "cell_type": "code",
   "execution_count": 2,
   "metadata": {},
   "outputs": [],
   "source": [
    "from sklearn.model_selection import train_test_split\n",
    "from sklearn.feature_selection import RFE,f_regression\n",
    "from statsmodels.stats.outliers_influence import variance_inflation_factor\n",
    "\n",
    "# regression\n",
    "import statsmodels.formula.api as smp\n",
    "from sklearn.ensemble import RandomForestRegressor\n",
    "from sklearn.linear_model import LinearRegression\n",
    "from sklearn.neighbors import KNeighborsRegressor\n",
    "from sklearn.ensemble import GradientBoostingRegressor\n",
    "from sklearn.svm import SVR\n",
    "from sklearn.tree import DecisionTreeRegressor"
   ]
  },
  {
   "cell_type": "code",
   "execution_count": 3,
   "metadata": {},
   "outputs": [],
   "source": [
    "#import data \n",
    "data = pd.read_excel(\"E:/BA 360/Case Studies & Assignments/Python Projects/1. Predicting Credit Card Spend & Identifying Key Drivers/Data Set.xlsx\")"
   ]
  },
  {
   "cell_type": "code",
   "execution_count": 4,
   "metadata": {},
   "outputs": [],
   "source": [
    "#SEPARATING DATA AS PER DATA DICTIONARY\n",
    "\n",
    "cat_cols = ['region','townsize','gender','agecat','birthmonth','edcat','jobcat','union','empcat','retire','inccat',\n",
    "            'default','jobsat','marital','spousedcat','homeown','hometype','addresscat','carown','cartype','carcatvalue',\n",
    "            'carbought','carbuy','commute','commutecat','commutecar','commutemotorcycle','commutecarpool','commutebus',\n",
    "            'commuterail','commutepublic','commutebike','commutewalk','commutenonmotor','telecommute','reason','polview',\n",
    "            'polparty','polcontrib','vote','card','cardtype','cardbenefit','cardfee','cardtenurecat','card2','card2type',\n",
    "            'card2benefit','card2fee','card2tenurecat','active','bfast','churn','tollfree','equip','callcard','wireless',\n",
    "            'multline','voice','pager','internet','callid','callwait','forward','confer','ebill','owntv','ownvcr','owndvd',\n",
    "            'owncd','ownpda','ownpc','ownipod','owngame','ownfax','news','response_01','response_02','response_03']\n",
    "\n",
    "num_cols = ['custid','age','ed','employ','income','lninc','debtinc','creddebt','lncreddebt','othdebt','lnothdebt','spoused',\n",
    "            'reside','pets','pets_cats','pets_dogs','pets_birds','pets_reptiles','pets_small','pets_saltfish','pets_freshfish',\n",
    "            'address','cars','carvalue','commutetime','cardtenure','card2tenure','cardspent','card2spent','tenure','longmon',\n",
    "            'lnlongmon','longten','lnlongten','tollmon','lntollmon','tollten','lntollten','equipmon','lnequipmon','equipten',\n",
    "            'lnequipten','cardmon','lncardmon','cardten','lncardten','wiremon','lnwiremon','wireten','lnwireten','hourstv']\n",
    "\n",
    "data_cat = data[cat_cols]\n",
    "data_num = data[num_cols]"
   ]
  },
  {
   "cell_type": "code",
   "execution_count": 42,
   "metadata": {},
   "outputs": [
    {
     "data": {
      "text/plain": [
       "['custid',\n",
       " 'region',\n",
       " 'townsize',\n",
       " 'gender',\n",
       " 'age',\n",
       " 'agecat',\n",
       " 'birthmonth',\n",
       " 'ed',\n",
       " 'edcat',\n",
       " 'jobcat',\n",
       " 'union',\n",
       " 'employ',\n",
       " 'empcat',\n",
       " 'retire',\n",
       " 'income',\n",
       " 'lninc',\n",
       " 'inccat',\n",
       " 'debtinc',\n",
       " 'creddebt',\n",
       " 'lncreddebt',\n",
       " 'othdebt',\n",
       " 'lnothdebt',\n",
       " 'default',\n",
       " 'jobsat',\n",
       " 'marital',\n",
       " 'spoused',\n",
       " 'spousedcat',\n",
       " 'reside',\n",
       " 'pets',\n",
       " 'pets_cats',\n",
       " 'pets_dogs',\n",
       " 'pets_birds',\n",
       " 'pets_reptiles',\n",
       " 'pets_small',\n",
       " 'pets_saltfish',\n",
       " 'pets_freshfish',\n",
       " 'homeown',\n",
       " 'hometype',\n",
       " 'address',\n",
       " 'addresscat',\n",
       " 'cars',\n",
       " 'carown',\n",
       " 'cartype',\n",
       " 'carvalue',\n",
       " 'carcatvalue',\n",
       " 'carbought',\n",
       " 'carbuy',\n",
       " 'commute',\n",
       " 'commutecat',\n",
       " 'commutetime',\n",
       " 'commutecar',\n",
       " 'commutemotorcycle',\n",
       " 'commutecarpool',\n",
       " 'commutebus',\n",
       " 'commuterail',\n",
       " 'commutepublic',\n",
       " 'commutebike',\n",
       " 'commutewalk',\n",
       " 'commutenonmotor',\n",
       " 'telecommute',\n",
       " 'reason',\n",
       " 'polview',\n",
       " 'polparty',\n",
       " 'polcontrib',\n",
       " 'vote',\n",
       " 'card',\n",
       " 'cardtype',\n",
       " 'cardbenefit',\n",
       " 'cardfee',\n",
       " 'cardtenure',\n",
       " 'cardtenurecat',\n",
       " 'card2',\n",
       " 'card2type',\n",
       " 'card2benefit',\n",
       " 'card2fee',\n",
       " 'card2tenure',\n",
       " 'card2tenurecat',\n",
       " 'cardspent',\n",
       " 'card2spent',\n",
       " 'active',\n",
       " 'bfast',\n",
       " 'tenure',\n",
       " 'churn',\n",
       " 'longmon',\n",
       " 'lnlongmon',\n",
       " 'longten',\n",
       " 'lnlongten',\n",
       " 'tollfree',\n",
       " 'tollmon',\n",
       " 'lntollmon',\n",
       " 'tollten',\n",
       " 'lntollten',\n",
       " 'equip',\n",
       " 'equipmon',\n",
       " 'lnequipmon',\n",
       " 'equipten',\n",
       " 'lnequipten',\n",
       " 'callcard',\n",
       " 'cardmon',\n",
       " 'lncardmon',\n",
       " 'cardten',\n",
       " 'lncardten',\n",
       " 'wireless',\n",
       " 'wiremon',\n",
       " 'lnwiremon',\n",
       " 'wireten',\n",
       " 'lnwireten',\n",
       " 'multline',\n",
       " 'voice',\n",
       " 'pager',\n",
       " 'internet',\n",
       " 'callid',\n",
       " 'callwait',\n",
       " 'forward',\n",
       " 'confer',\n",
       " 'ebill',\n",
       " 'owntv',\n",
       " 'hourstv',\n",
       " 'ownvcr',\n",
       " 'owndvd',\n",
       " 'owncd',\n",
       " 'ownpda',\n",
       " 'ownpc',\n",
       " 'ownipod',\n",
       " 'owngame',\n",
       " 'ownfax',\n",
       " 'news',\n",
       " 'response_01',\n",
       " 'response_02',\n",
       " 'response_03']"
      ]
     },
     "execution_count": 42,
     "metadata": {},
     "output_type": "execute_result"
    }
   ],
   "source": [
    "[i for i in (data.columns)]"
   ]
  },
  {
   "cell_type": "code",
   "execution_count": 5,
   "metadata": {},
   "outputs": [
    {
     "data": {
      "text/plain": [
       "((5000, 130), (5000, 79), (5000, 51))"
      ]
     },
     "execution_count": 5,
     "metadata": {},
     "output_type": "execute_result"
    }
   ],
   "source": [
    "data.shape, data_cat.shape, data_num.shape"
   ]
  },
  {
   "cell_type": "code",
   "execution_count": 6,
   "metadata": {},
   "outputs": [],
   "source": [
    "# removing log columns from the numeric data\n",
    "log_cols = ['lninc','lncreddebt','lnothdebt','lnlongmon','lnlongten','lntollmon','lntollten','lnequipmon',\n",
    "            'lnequipten','lncardmon','lncardten','lnwiremon','lnwireten']\n",
    "data_num.drop(columns=log_cols , axis=1 , inplace = True)\n",
    "\n",
    "# some categorical columns are already in the numerical form, concatenate those with numerical data\n",
    "#numeric_cat_cols = ['gender','union','retire','default','marital','homeown','carbuy','commutecar','commutemotorcycle',\n",
    "#                    'commutecarpool','commutebus','commuterail','commutepublic','commutebike','commutewalk','commutenonmotor',\n",
    "#                    'telecommute','polparty','polcontrib','vote','cardfee','card2fee','active','churn','tollfree','equip',\n",
    "#                    'callcard','wireless','multline','voice','pager','callid','callwait','forward','confer','ebill','owntv',\n",
    "#                    'ownvcr','owndvd','owncd','ownpda','ownpc','ownipod','owngame','ownfax','news','response_01','response_02',\n",
    "#                    'response_03']\n",
    "\n",
    "#data_num = pd.concat([data_num, data_cat[numeric_cat_cols]],axis = 1)#\n",
    "#data_cat = data_cat[data_cat.columns.difference(numeric_cat_cols)]\n",
    "\n"
   ]
  },
  {
   "cell_type": "code",
   "execution_count": 7,
   "metadata": {},
   "outputs": [],
   "source": [
    "# creating total_spend column as target variable\n",
    "data_num['total_spend'] = data_num.cardspent + data_num.card2spent"
   ]
  },
  {
   "cell_type": "code",
   "execution_count": 8,
   "metadata": {},
   "outputs": [],
   "source": [
    "# removing custid from numerical dataset\n",
    "data_num.drop(columns=['custid','cardspent','card2spent'], axis = 1, inplace = True)\n",
    "data_cat.drop(columns= 'birthmonth',axis = 1, inplace = True)  # birthmonth removing from categorical dataset"
   ]
  },
  {
   "cell_type": "code",
   "execution_count": 9,
   "metadata": {},
   "outputs": [
    {
     "data": {
      "text/plain": [
       "((5000, 36), (5000, 78))"
      ]
     },
     "execution_count": 9,
     "metadata": {},
     "output_type": "execute_result"
    }
   ],
   "source": [
    "data_num.shape,data_cat.shape"
   ]
  },
  {
   "cell_type": "markdown",
   "metadata": {},
   "source": [
    "## Univariate Analysis"
   ]
  },
  {
   "cell_type": "code",
   "execution_count": 10,
   "metadata": {},
   "outputs": [
    {
     "data": {
      "text/html": [
       "<div>\n",
       "<style scoped>\n",
       "    .dataframe tbody tr th:only-of-type {\n",
       "        vertical-align: middle;\n",
       "    }\n",
       "\n",
       "    .dataframe tbody tr th {\n",
       "        vertical-align: top;\n",
       "    }\n",
       "\n",
       "    .dataframe thead th {\n",
       "        text-align: right;\n",
       "    }\n",
       "</style>\n",
       "<table border=\"1\" class=\"dataframe\">\n",
       "  <thead>\n",
       "    <tr style=\"text-align: right;\">\n",
       "      <th></th>\n",
       "      <th>N</th>\n",
       "      <th>NMISS</th>\n",
       "      <th>SUM</th>\n",
       "      <th>MEAN</th>\n",
       "      <th>MEDIAN</th>\n",
       "      <th>STD</th>\n",
       "      <th>VAR</th>\n",
       "      <th>MIN</th>\n",
       "      <th>P1</th>\n",
       "      <th>P5</th>\n",
       "      <th>P10</th>\n",
       "      <th>P25</th>\n",
       "      <th>P50</th>\n",
       "      <th>P75</th>\n",
       "      <th>P90</th>\n",
       "      <th>P95</th>\n",
       "      <th>P99</th>\n",
       "      <th>MAX</th>\n",
       "      <th>skewness</th>\n",
       "      <th>kurtosis</th>\n",
       "    </tr>\n",
       "  </thead>\n",
       "  <tbody>\n",
       "    <tr>\n",
       "      <th>age</th>\n",
       "      <td>5000.0</td>\n",
       "      <td>0.0</td>\n",
       "      <td>2.351280e+05</td>\n",
       "      <td>47.025600</td>\n",
       "      <td>47.000000</td>\n",
       "      <td>17.770338</td>\n",
       "      <td>3.157849e+02</td>\n",
       "      <td>18.00</td>\n",
       "      <td>18.000000</td>\n",
       "      <td>20.000000</td>\n",
       "      <td>23.000000</td>\n",
       "      <td>31.000000</td>\n",
       "      <td>47.000000</td>\n",
       "      <td>62.00000</td>\n",
       "      <td>72.000000</td>\n",
       "      <td>76.000000</td>\n",
       "      <td>79.000000</td>\n",
       "      <td>79.000000</td>\n",
       "      <td>0.090760</td>\n",
       "      <td>-1.187030</td>\n",
       "    </tr>\n",
       "    <tr>\n",
       "      <th>ed</th>\n",
       "      <td>5000.0</td>\n",
       "      <td>0.0</td>\n",
       "      <td>7.271500e+04</td>\n",
       "      <td>14.543000</td>\n",
       "      <td>14.000000</td>\n",
       "      <td>3.281083</td>\n",
       "      <td>1.076550e+01</td>\n",
       "      <td>6.00</td>\n",
       "      <td>8.000000</td>\n",
       "      <td>9.000000</td>\n",
       "      <td>10.000000</td>\n",
       "      <td>12.000000</td>\n",
       "      <td>14.000000</td>\n",
       "      <td>17.00000</td>\n",
       "      <td>19.000000</td>\n",
       "      <td>20.000000</td>\n",
       "      <td>21.000000</td>\n",
       "      <td>23.000000</td>\n",
       "      <td>0.003734</td>\n",
       "      <td>-0.607063</td>\n",
       "    </tr>\n",
       "    <tr>\n",
       "      <th>employ</th>\n",
       "      <td>5000.0</td>\n",
       "      <td>0.0</td>\n",
       "      <td>4.865200e+04</td>\n",
       "      <td>9.730400</td>\n",
       "      <td>7.000000</td>\n",
       "      <td>9.690929</td>\n",
       "      <td>9.391410e+01</td>\n",
       "      <td>0.00</td>\n",
       "      <td>0.000000</td>\n",
       "      <td>0.000000</td>\n",
       "      <td>0.000000</td>\n",
       "      <td>2.000000</td>\n",
       "      <td>7.000000</td>\n",
       "      <td>15.00000</td>\n",
       "      <td>25.000000</td>\n",
       "      <td>31.000000</td>\n",
       "      <td>39.000000</td>\n",
       "      <td>52.000000</td>\n",
       "      <td>1.251918</td>\n",
       "      <td>1.052865</td>\n",
       "    </tr>\n",
       "    <tr>\n",
       "      <th>income</th>\n",
       "      <td>5000.0</td>\n",
       "      <td>0.0</td>\n",
       "      <td>2.737980e+05</td>\n",
       "      <td>54.759600</td>\n",
       "      <td>38.000000</td>\n",
       "      <td>55.377511</td>\n",
       "      <td>3.066669e+03</td>\n",
       "      <td>9.00</td>\n",
       "      <td>9.000000</td>\n",
       "      <td>13.000000</td>\n",
       "      <td>16.000000</td>\n",
       "      <td>24.000000</td>\n",
       "      <td>38.000000</td>\n",
       "      <td>67.00000</td>\n",
       "      <td>109.100000</td>\n",
       "      <td>147.000000</td>\n",
       "      <td>272.010000</td>\n",
       "      <td>1073.000000</td>\n",
       "      <td>5.179216</td>\n",
       "      <td>57.077037</td>\n",
       "    </tr>\n",
       "    <tr>\n",
       "      <th>debtinc</th>\n",
       "      <td>5000.0</td>\n",
       "      <td>0.0</td>\n",
       "      <td>4.977080e+04</td>\n",
       "      <td>9.954160</td>\n",
       "      <td>8.800000</td>\n",
       "      <td>6.399783</td>\n",
       "      <td>4.095723e+01</td>\n",
       "      <td>0.00</td>\n",
       "      <td>0.700000</td>\n",
       "      <td>1.900000</td>\n",
       "      <td>2.800000</td>\n",
       "      <td>5.100000</td>\n",
       "      <td>8.800000</td>\n",
       "      <td>13.60000</td>\n",
       "      <td>18.600000</td>\n",
       "      <td>22.200000</td>\n",
       "      <td>29.200000</td>\n",
       "      <td>43.100000</td>\n",
       "      <td>1.061934</td>\n",
       "      <td>1.376458</td>\n",
       "    </tr>\n",
       "    <tr>\n",
       "      <th>creddebt</th>\n",
       "      <td>5000.0</td>\n",
       "      <td>0.0</td>\n",
       "      <td>9.286628e+03</td>\n",
       "      <td>1.857326</td>\n",
       "      <td>0.926437</td>\n",
       "      <td>3.415732</td>\n",
       "      <td>1.166722e+01</td>\n",
       "      <td>0.00</td>\n",
       "      <td>0.033160</td>\n",
       "      <td>0.101088</td>\n",
       "      <td>0.175682</td>\n",
       "      <td>0.385520</td>\n",
       "      <td>0.926437</td>\n",
       "      <td>2.06382</td>\n",
       "      <td>4.299470</td>\n",
       "      <td>6.373010</td>\n",
       "      <td>14.280358</td>\n",
       "      <td>109.072596</td>\n",
       "      <td>11.120041</td>\n",
       "      <td>248.533427</td>\n",
       "    </tr>\n",
       "    <tr>\n",
       "      <th>othdebt</th>\n",
       "      <td>5000.0</td>\n",
       "      <td>0.0</td>\n",
       "      <td>1.827230e+04</td>\n",
       "      <td>3.654460</td>\n",
       "      <td>2.098540</td>\n",
       "      <td>5.395172</td>\n",
       "      <td>2.910788e+01</td>\n",
       "      <td>0.00</td>\n",
       "      <td>0.114299</td>\n",
       "      <td>0.287692</td>\n",
       "      <td>0.457997</td>\n",
       "      <td>0.980301</td>\n",
       "      <td>2.098540</td>\n",
       "      <td>4.31478</td>\n",
       "      <td>8.062046</td>\n",
       "      <td>11.815981</td>\n",
       "      <td>24.064260</td>\n",
       "      <td>141.459150</td>\n",
       "      <td>7.589924</td>\n",
       "      <td>125.145234</td>\n",
       "    </tr>\n",
       "    <tr>\n",
       "      <th>spoused</th>\n",
       "      <td>5000.0</td>\n",
       "      <td>0.0</td>\n",
       "      <td>3.056400e+04</td>\n",
       "      <td>6.112800</td>\n",
       "      <td>-1.000000</td>\n",
       "      <td>7.743518</td>\n",
       "      <td>5.996207e+01</td>\n",
       "      <td>-1.00</td>\n",
       "      <td>-1.000000</td>\n",
       "      <td>-1.000000</td>\n",
       "      <td>-1.000000</td>\n",
       "      <td>-1.000000</td>\n",
       "      <td>-1.000000</td>\n",
       "      <td>14.00000</td>\n",
       "      <td>16.000000</td>\n",
       "      <td>18.000000</td>\n",
       "      <td>20.000000</td>\n",
       "      <td>24.000000</td>\n",
       "      <td>0.330430</td>\n",
       "      <td>-1.591980</td>\n",
       "    </tr>\n",
       "    <tr>\n",
       "      <th>reside</th>\n",
       "      <td>5000.0</td>\n",
       "      <td>0.0</td>\n",
       "      <td>1.102000e+04</td>\n",
       "      <td>2.204000</td>\n",
       "      <td>2.000000</td>\n",
       "      <td>1.393977</td>\n",
       "      <td>1.943173e+00</td>\n",
       "      <td>1.00</td>\n",
       "      <td>1.000000</td>\n",
       "      <td>1.000000</td>\n",
       "      <td>1.000000</td>\n",
       "      <td>1.000000</td>\n",
       "      <td>2.000000</td>\n",
       "      <td>3.00000</td>\n",
       "      <td>4.000000</td>\n",
       "      <td>5.000000</td>\n",
       "      <td>6.000000</td>\n",
       "      <td>9.000000</td>\n",
       "      <td>1.228809</td>\n",
       "      <td>1.007474</td>\n",
       "    </tr>\n",
       "    <tr>\n",
       "      <th>pets</th>\n",
       "      <td>5000.0</td>\n",
       "      <td>0.0</td>\n",
       "      <td>1.533700e+04</td>\n",
       "      <td>3.067400</td>\n",
       "      <td>2.000000</td>\n",
       "      <td>3.414497</td>\n",
       "      <td>1.165879e+01</td>\n",
       "      <td>0.00</td>\n",
       "      <td>0.000000</td>\n",
       "      <td>0.000000</td>\n",
       "      <td>0.000000</td>\n",
       "      <td>0.000000</td>\n",
       "      <td>2.000000</td>\n",
       "      <td>5.00000</td>\n",
       "      <td>8.000000</td>\n",
       "      <td>10.000000</td>\n",
       "      <td>13.000000</td>\n",
       "      <td>21.000000</td>\n",
       "      <td>1.193780</td>\n",
       "      <td>0.895993</td>\n",
       "    </tr>\n",
       "    <tr>\n",
       "      <th>pets_cats</th>\n",
       "      <td>5000.0</td>\n",
       "      <td>0.0</td>\n",
       "      <td>2.502000e+03</td>\n",
       "      <td>0.500400</td>\n",
       "      <td>0.000000</td>\n",
       "      <td>0.860783</td>\n",
       "      <td>7.409480e-01</td>\n",
       "      <td>0.00</td>\n",
       "      <td>0.000000</td>\n",
       "      <td>0.000000</td>\n",
       "      <td>0.000000</td>\n",
       "      <td>0.000000</td>\n",
       "      <td>0.000000</td>\n",
       "      <td>1.00000</td>\n",
       "      <td>2.000000</td>\n",
       "      <td>2.000000</td>\n",
       "      <td>3.000000</td>\n",
       "      <td>6.000000</td>\n",
       "      <td>1.880430</td>\n",
       "      <td>3.505584</td>\n",
       "    </tr>\n",
       "    <tr>\n",
       "      <th>pets_dogs</th>\n",
       "      <td>5000.0</td>\n",
       "      <td>0.0</td>\n",
       "      <td>1.962000e+03</td>\n",
       "      <td>0.392400</td>\n",
       "      <td>0.000000</td>\n",
       "      <td>0.796084</td>\n",
       "      <td>6.337490e-01</td>\n",
       "      <td>0.00</td>\n",
       "      <td>0.000000</td>\n",
       "      <td>0.000000</td>\n",
       "      <td>0.000000</td>\n",
       "      <td>0.000000</td>\n",
       "      <td>0.000000</td>\n",
       "      <td>0.00000</td>\n",
       "      <td>2.000000</td>\n",
       "      <td>2.000000</td>\n",
       "      <td>3.000000</td>\n",
       "      <td>7.000000</td>\n",
       "      <td>2.330118</td>\n",
       "      <td>5.878362</td>\n",
       "    </tr>\n",
       "    <tr>\n",
       "      <th>pets_birds</th>\n",
       "      <td>5000.0</td>\n",
       "      <td>0.0</td>\n",
       "      <td>5.520000e+02</td>\n",
       "      <td>0.110400</td>\n",
       "      <td>0.000000</td>\n",
       "      <td>0.494227</td>\n",
       "      <td>2.442607e-01</td>\n",
       "      <td>0.00</td>\n",
       "      <td>0.000000</td>\n",
       "      <td>0.000000</td>\n",
       "      <td>0.000000</td>\n",
       "      <td>0.000000</td>\n",
       "      <td>0.000000</td>\n",
       "      <td>0.00000</td>\n",
       "      <td>0.000000</td>\n",
       "      <td>1.000000</td>\n",
       "      <td>3.000000</td>\n",
       "      <td>5.000000</td>\n",
       "      <td>5.246436</td>\n",
       "      <td>29.822617</td>\n",
       "    </tr>\n",
       "    <tr>\n",
       "      <th>pets_reptiles</th>\n",
       "      <td>5000.0</td>\n",
       "      <td>0.0</td>\n",
       "      <td>2.780000e+02</td>\n",
       "      <td>0.055600</td>\n",
       "      <td>0.000000</td>\n",
       "      <td>0.325776</td>\n",
       "      <td>1.061299e-01</td>\n",
       "      <td>0.00</td>\n",
       "      <td>0.000000</td>\n",
       "      <td>0.000000</td>\n",
       "      <td>0.000000</td>\n",
       "      <td>0.000000</td>\n",
       "      <td>0.000000</td>\n",
       "      <td>0.00000</td>\n",
       "      <td>0.000000</td>\n",
       "      <td>0.000000</td>\n",
       "      <td>2.000000</td>\n",
       "      <td>6.000000</td>\n",
       "      <td>7.586118</td>\n",
       "      <td>72.828648</td>\n",
       "    </tr>\n",
       "    <tr>\n",
       "      <th>pets_small</th>\n",
       "      <td>5000.0</td>\n",
       "      <td>0.0</td>\n",
       "      <td>5.730000e+02</td>\n",
       "      <td>0.114600</td>\n",
       "      <td>0.000000</td>\n",
       "      <td>0.568798</td>\n",
       "      <td>3.235315e-01</td>\n",
       "      <td>0.00</td>\n",
       "      <td>0.000000</td>\n",
       "      <td>0.000000</td>\n",
       "      <td>0.000000</td>\n",
       "      <td>0.000000</td>\n",
       "      <td>0.000000</td>\n",
       "      <td>0.00000</td>\n",
       "      <td>0.000000</td>\n",
       "      <td>1.000000</td>\n",
       "      <td>3.000000</td>\n",
       "      <td>7.000000</td>\n",
       "      <td>5.908676</td>\n",
       "      <td>39.154151</td>\n",
       "    </tr>\n",
       "    <tr>\n",
       "      <th>pets_saltfish</th>\n",
       "      <td>5000.0</td>\n",
       "      <td>0.0</td>\n",
       "      <td>2.330000e+02</td>\n",
       "      <td>0.046600</td>\n",
       "      <td>0.000000</td>\n",
       "      <td>0.469545</td>\n",
       "      <td>2.204725e-01</td>\n",
       "      <td>0.00</td>\n",
       "      <td>0.000000</td>\n",
       "      <td>0.000000</td>\n",
       "      <td>0.000000</td>\n",
       "      <td>0.000000</td>\n",
       "      <td>0.000000</td>\n",
       "      <td>0.00000</td>\n",
       "      <td>0.000000</td>\n",
       "      <td>0.000000</td>\n",
       "      <td>2.000000</td>\n",
       "      <td>8.000000</td>\n",
       "      <td>11.193568</td>\n",
       "      <td>133.344304</td>\n",
       "    </tr>\n",
       "    <tr>\n",
       "      <th>pets_freshfish</th>\n",
       "      <td>5000.0</td>\n",
       "      <td>0.0</td>\n",
       "      <td>9.237000e+03</td>\n",
       "      <td>1.847400</td>\n",
       "      <td>0.000000</td>\n",
       "      <td>3.074801</td>\n",
       "      <td>9.454404e+00</td>\n",
       "      <td>0.00</td>\n",
       "      <td>0.000000</td>\n",
       "      <td>0.000000</td>\n",
       "      <td>0.000000</td>\n",
       "      <td>0.000000</td>\n",
       "      <td>0.000000</td>\n",
       "      <td>4.00000</td>\n",
       "      <td>7.000000</td>\n",
       "      <td>8.000000</td>\n",
       "      <td>11.000000</td>\n",
       "      <td>16.000000</td>\n",
       "      <td>1.455173</td>\n",
       "      <td>1.034373</td>\n",
       "    </tr>\n",
       "    <tr>\n",
       "      <th>address</th>\n",
       "      <td>5000.0</td>\n",
       "      <td>0.0</td>\n",
       "      <td>8.201200e+04</td>\n",
       "      <td>16.402400</td>\n",
       "      <td>14.000000</td>\n",
       "      <td>12.397484</td>\n",
       "      <td>1.536976e+02</td>\n",
       "      <td>0.00</td>\n",
       "      <td>0.000000</td>\n",
       "      <td>1.000000</td>\n",
       "      <td>2.000000</td>\n",
       "      <td>6.000000</td>\n",
       "      <td>14.000000</td>\n",
       "      <td>25.00000</td>\n",
       "      <td>34.000000</td>\n",
       "      <td>40.000000</td>\n",
       "      <td>48.000000</td>\n",
       "      <td>57.000000</td>\n",
       "      <td>0.706546</td>\n",
       "      <td>-0.229674</td>\n",
       "    </tr>\n",
       "    <tr>\n",
       "      <th>cars</th>\n",
       "      <td>5000.0</td>\n",
       "      <td>0.0</td>\n",
       "      <td>1.065300e+04</td>\n",
       "      <td>2.130600</td>\n",
       "      <td>2.000000</td>\n",
       "      <td>1.307473</td>\n",
       "      <td>1.709486e+00</td>\n",
       "      <td>0.00</td>\n",
       "      <td>0.000000</td>\n",
       "      <td>0.000000</td>\n",
       "      <td>1.000000</td>\n",
       "      <td>1.000000</td>\n",
       "      <td>2.000000</td>\n",
       "      <td>3.00000</td>\n",
       "      <td>4.000000</td>\n",
       "      <td>4.000000</td>\n",
       "      <td>6.000000</td>\n",
       "      <td>8.000000</td>\n",
       "      <td>0.501722</td>\n",
       "      <td>0.328388</td>\n",
       "    </tr>\n",
       "    <tr>\n",
       "      <th>carvalue</th>\n",
       "      <td>5000.0</td>\n",
       "      <td>0.0</td>\n",
       "      <td>1.161629e+05</td>\n",
       "      <td>23.232580</td>\n",
       "      <td>17.000000</td>\n",
       "      <td>21.231637</td>\n",
       "      <td>4.507824e+02</td>\n",
       "      <td>-1.00</td>\n",
       "      <td>-1.000000</td>\n",
       "      <td>-1.000000</td>\n",
       "      <td>2.490000</td>\n",
       "      <td>9.200000</td>\n",
       "      <td>17.000000</td>\n",
       "      <td>31.10000</td>\n",
       "      <td>52.910000</td>\n",
       "      <td>72.000000</td>\n",
       "      <td>92.001000</td>\n",
       "      <td>99.600000</td>\n",
       "      <td>1.474026</td>\n",
       "      <td>1.951707</td>\n",
       "    </tr>\n",
       "    <tr>\n",
       "      <th>commutetime</th>\n",
       "      <td>4998.0</td>\n",
       "      <td>2.0</td>\n",
       "      <td>1.266770e+05</td>\n",
       "      <td>25.345538</td>\n",
       "      <td>25.000000</td>\n",
       "      <td>5.879149</td>\n",
       "      <td>3.456439e+01</td>\n",
       "      <td>8.00</td>\n",
       "      <td>13.000000</td>\n",
       "      <td>16.000000</td>\n",
       "      <td>18.000000</td>\n",
       "      <td>21.000000</td>\n",
       "      <td>25.000000</td>\n",
       "      <td>29.00000</td>\n",
       "      <td>33.000000</td>\n",
       "      <td>35.000000</td>\n",
       "      <td>40.030000</td>\n",
       "      <td>48.000000</td>\n",
       "      <td>0.290280</td>\n",
       "      <td>0.134869</td>\n",
       "    </tr>\n",
       "    <tr>\n",
       "      <th>cardtenure</th>\n",
       "      <td>5000.0</td>\n",
       "      <td>0.0</td>\n",
       "      <td>8.327900e+04</td>\n",
       "      <td>16.655800</td>\n",
       "      <td>14.000000</td>\n",
       "      <td>12.020958</td>\n",
       "      <td>1.445034e+02</td>\n",
       "      <td>0.00</td>\n",
       "      <td>0.000000</td>\n",
       "      <td>1.000000</td>\n",
       "      <td>2.000000</td>\n",
       "      <td>6.000000</td>\n",
       "      <td>14.000000</td>\n",
       "      <td>26.00000</td>\n",
       "      <td>35.000000</td>\n",
       "      <td>38.000000</td>\n",
       "      <td>40.000000</td>\n",
       "      <td>40.000000</td>\n",
       "      <td>0.429361</td>\n",
       "      <td>-1.056112</td>\n",
       "    </tr>\n",
       "    <tr>\n",
       "      <th>card2tenure</th>\n",
       "      <td>5000.0</td>\n",
       "      <td>0.0</td>\n",
       "      <td>6.542200e+04</td>\n",
       "      <td>13.084400</td>\n",
       "      <td>12.000000</td>\n",
       "      <td>9.119403</td>\n",
       "      <td>8.316351e+01</td>\n",
       "      <td>0.00</td>\n",
       "      <td>0.000000</td>\n",
       "      <td>1.000000</td>\n",
       "      <td>2.000000</td>\n",
       "      <td>5.000000</td>\n",
       "      <td>12.000000</td>\n",
       "      <td>21.00000</td>\n",
       "      <td>27.000000</td>\n",
       "      <td>29.000000</td>\n",
       "      <td>30.000000</td>\n",
       "      <td>30.000000</td>\n",
       "      <td>0.351675</td>\n",
       "      <td>-1.133717</td>\n",
       "    </tr>\n",
       "    <tr>\n",
       "      <th>tenure</th>\n",
       "      <td>5000.0</td>\n",
       "      <td>0.0</td>\n",
       "      <td>1.910240e+05</td>\n",
       "      <td>38.204800</td>\n",
       "      <td>38.000000</td>\n",
       "      <td>22.661888</td>\n",
       "      <td>5.135612e+02</td>\n",
       "      <td>0.00</td>\n",
       "      <td>1.000000</td>\n",
       "      <td>4.000000</td>\n",
       "      <td>7.000000</td>\n",
       "      <td>18.000000</td>\n",
       "      <td>38.000000</td>\n",
       "      <td>59.00000</td>\n",
       "      <td>69.000000</td>\n",
       "      <td>72.000000</td>\n",
       "      <td>72.000000</td>\n",
       "      <td>72.000000</td>\n",
       "      <td>-0.036345</td>\n",
       "      <td>-1.330462</td>\n",
       "    </tr>\n",
       "    <tr>\n",
       "      <th>longmon</th>\n",
       "      <td>5000.0</td>\n",
       "      <td>0.0</td>\n",
       "      <td>6.735725e+04</td>\n",
       "      <td>13.471450</td>\n",
       "      <td>9.550000</td>\n",
       "      <td>12.773381</td>\n",
       "      <td>1.631593e+02</td>\n",
       "      <td>0.90</td>\n",
       "      <td>1.850000</td>\n",
       "      <td>2.900000</td>\n",
       "      <td>3.700000</td>\n",
       "      <td>5.700000</td>\n",
       "      <td>9.550000</td>\n",
       "      <td>16.55000</td>\n",
       "      <td>27.000000</td>\n",
       "      <td>36.757500</td>\n",
       "      <td>65.201000</td>\n",
       "      <td>179.850000</td>\n",
       "      <td>3.271923</td>\n",
       "      <td>18.503390</td>\n",
       "    </tr>\n",
       "    <tr>\n",
       "      <th>longten</th>\n",
       "      <td>4997.0</td>\n",
       "      <td>3.0</td>\n",
       "      <td>3.542232e+06</td>\n",
       "      <td>708.871753</td>\n",
       "      <td>350.000000</td>\n",
       "      <td>979.291072</td>\n",
       "      <td>9.590110e+05</td>\n",
       "      <td>0.90</td>\n",
       "      <td>2.400000</td>\n",
       "      <td>12.620000</td>\n",
       "      <td>28.290000</td>\n",
       "      <td>104.600000</td>\n",
       "      <td>350.000000</td>\n",
       "      <td>913.85000</td>\n",
       "      <td>1808.840000</td>\n",
       "      <td>2567.650000</td>\n",
       "      <td>4689.066000</td>\n",
       "      <td>13046.500000</td>\n",
       "      <td>3.215724</td>\n",
       "      <td>16.982093</td>\n",
       "    </tr>\n",
       "    <tr>\n",
       "      <th>tollmon</th>\n",
       "      <td>5000.0</td>\n",
       "      <td>0.0</td>\n",
       "      <td>6.632225e+04</td>\n",
       "      <td>13.264450</td>\n",
       "      <td>0.000000</td>\n",
       "      <td>16.310018</td>\n",
       "      <td>2.660167e+02</td>\n",
       "      <td>0.00</td>\n",
       "      <td>0.000000</td>\n",
       "      <td>0.000000</td>\n",
       "      <td>0.000000</td>\n",
       "      <td>0.000000</td>\n",
       "      <td>0.000000</td>\n",
       "      <td>24.50000</td>\n",
       "      <td>35.500000</td>\n",
       "      <td>43.500000</td>\n",
       "      <td>58.752500</td>\n",
       "      <td>173.000000</td>\n",
       "      <td>1.181605</td>\n",
       "      <td>2.319470</td>\n",
       "    </tr>\n",
       "    <tr>\n",
       "      <th>tollten</th>\n",
       "      <td>5000.0</td>\n",
       "      <td>0.0</td>\n",
       "      <td>2.889163e+06</td>\n",
       "      <td>577.832510</td>\n",
       "      <td>0.000000</td>\n",
       "      <td>949.151586</td>\n",
       "      <td>9.008887e+05</td>\n",
       "      <td>0.00</td>\n",
       "      <td>0.000000</td>\n",
       "      <td>0.000000</td>\n",
       "      <td>0.000000</td>\n",
       "      <td>0.000000</td>\n",
       "      <td>0.000000</td>\n",
       "      <td>885.45000</td>\n",
       "      <td>1918.955000</td>\n",
       "      <td>2620.212500</td>\n",
       "      <td>3977.270500</td>\n",
       "      <td>6923.450000</td>\n",
       "      <td>2.089870</td>\n",
       "      <td>4.879252</td>\n",
       "    </tr>\n",
       "    <tr>\n",
       "      <th>equipmon</th>\n",
       "      <td>5000.0</td>\n",
       "      <td>0.0</td>\n",
       "      <td>6.495655e+04</td>\n",
       "      <td>12.991310</td>\n",
       "      <td>0.000000</td>\n",
       "      <td>19.212943</td>\n",
       "      <td>3.691372e+02</td>\n",
       "      <td>0.00</td>\n",
       "      <td>0.000000</td>\n",
       "      <td>0.000000</td>\n",
       "      <td>0.000000</td>\n",
       "      <td>0.000000</td>\n",
       "      <td>0.000000</td>\n",
       "      <td>30.80000</td>\n",
       "      <td>42.700000</td>\n",
       "      <td>49.052500</td>\n",
       "      <td>63.300500</td>\n",
       "      <td>106.300000</td>\n",
       "      <td>1.081748</td>\n",
       "      <td>-0.115126</td>\n",
       "    </tr>\n",
       "    <tr>\n",
       "      <th>equipten</th>\n",
       "      <td>5000.0</td>\n",
       "      <td>0.0</td>\n",
       "      <td>2.350882e+06</td>\n",
       "      <td>470.176400</td>\n",
       "      <td>0.000000</td>\n",
       "      <td>912.220624</td>\n",
       "      <td>8.321465e+05</td>\n",
       "      <td>0.00</td>\n",
       "      <td>0.000000</td>\n",
       "      <td>0.000000</td>\n",
       "      <td>0.000000</td>\n",
       "      <td>0.000000</td>\n",
       "      <td>0.000000</td>\n",
       "      <td>510.16250</td>\n",
       "      <td>1912.325000</td>\n",
       "      <td>2600.990000</td>\n",
       "      <td>3679.457500</td>\n",
       "      <td>6525.300000</td>\n",
       "      <td>2.214949</td>\n",
       "      <td>4.786260</td>\n",
       "    </tr>\n",
       "    <tr>\n",
       "      <th>cardmon</th>\n",
       "      <td>5000.0</td>\n",
       "      <td>0.0</td>\n",
       "      <td>7.721925e+04</td>\n",
       "      <td>15.443850</td>\n",
       "      <td>13.750000</td>\n",
       "      <td>15.007569</td>\n",
       "      <td>2.252271e+02</td>\n",
       "      <td>0.00</td>\n",
       "      <td>0.000000</td>\n",
       "      <td>0.000000</td>\n",
       "      <td>0.000000</td>\n",
       "      <td>0.000000</td>\n",
       "      <td>13.750000</td>\n",
       "      <td>22.75000</td>\n",
       "      <td>34.000000</td>\n",
       "      <td>42.000000</td>\n",
       "      <td>64.250000</td>\n",
       "      <td>188.500000</td>\n",
       "      <td>1.687653</td>\n",
       "      <td>7.167083</td>\n",
       "    </tr>\n",
       "    <tr>\n",
       "      <th>cardten</th>\n",
       "      <td>4998.0</td>\n",
       "      <td>2.0</td>\n",
       "      <td>3.600951e+06</td>\n",
       "      <td>720.478391</td>\n",
       "      <td>425.000000</td>\n",
       "      <td>922.225527</td>\n",
       "      <td>8.504999e+05</td>\n",
       "      <td>0.00</td>\n",
       "      <td>0.000000</td>\n",
       "      <td>0.000000</td>\n",
       "      <td>0.000000</td>\n",
       "      <td>0.000000</td>\n",
       "      <td>425.000000</td>\n",
       "      <td>1080.00000</td>\n",
       "      <td>1871.500000</td>\n",
       "      <td>2455.750000</td>\n",
       "      <td>4011.200000</td>\n",
       "      <td>13705.000000</td>\n",
       "      <td>2.645855</td>\n",
       "      <td>15.162751</td>\n",
       "    </tr>\n",
       "    <tr>\n",
       "      <th>wiremon</th>\n",
       "      <td>5000.0</td>\n",
       "      <td>0.0</td>\n",
       "      <td>5.350595e+04</td>\n",
       "      <td>10.701190</td>\n",
       "      <td>0.000000</td>\n",
       "      <td>19.799837</td>\n",
       "      <td>3.920335e+02</td>\n",
       "      <td>0.00</td>\n",
       "      <td>0.000000</td>\n",
       "      <td>0.000000</td>\n",
       "      <td>0.000000</td>\n",
       "      <td>0.000000</td>\n",
       "      <td>0.000000</td>\n",
       "      <td>20.96250</td>\n",
       "      <td>40.860000</td>\n",
       "      <td>51.305000</td>\n",
       "      <td>78.304000</td>\n",
       "      <td>186.250000</td>\n",
       "      <td>1.998013</td>\n",
       "      <td>4.783787</td>\n",
       "    </tr>\n",
       "    <tr>\n",
       "      <th>wireten</th>\n",
       "      <td>5000.0</td>\n",
       "      <td>0.0</td>\n",
       "      <td>2.109923e+06</td>\n",
       "      <td>421.984610</td>\n",
       "      <td>0.000000</td>\n",
       "      <td>1001.003287</td>\n",
       "      <td>1.002008e+06</td>\n",
       "      <td>0.00</td>\n",
       "      <td>0.000000</td>\n",
       "      <td>0.000000</td>\n",
       "      <td>0.000000</td>\n",
       "      <td>0.000000</td>\n",
       "      <td>0.000000</td>\n",
       "      <td>89.96250</td>\n",
       "      <td>1778.535000</td>\n",
       "      <td>2687.922500</td>\n",
       "      <td>4530.186000</td>\n",
       "      <td>12858.650000</td>\n",
       "      <td>3.304203</td>\n",
       "      <td>15.464364</td>\n",
       "    </tr>\n",
       "    <tr>\n",
       "      <th>hourstv</th>\n",
       "      <td>5000.0</td>\n",
       "      <td>0.0</td>\n",
       "      <td>9.822500e+04</td>\n",
       "      <td>19.645000</td>\n",
       "      <td>20.000000</td>\n",
       "      <td>5.165609</td>\n",
       "      <td>2.668351e+01</td>\n",
       "      <td>0.00</td>\n",
       "      <td>0.000000</td>\n",
       "      <td>12.000000</td>\n",
       "      <td>14.000000</td>\n",
       "      <td>17.000000</td>\n",
       "      <td>20.000000</td>\n",
       "      <td>23.00000</td>\n",
       "      <td>26.000000</td>\n",
       "      <td>28.000000</td>\n",
       "      <td>31.000000</td>\n",
       "      <td>36.000000</td>\n",
       "      <td>-0.644712</td>\n",
       "      <td>2.348422</td>\n",
       "    </tr>\n",
       "    <tr>\n",
       "      <th>total_spend</th>\n",
       "      <td>5000.0</td>\n",
       "      <td>0.0</td>\n",
       "      <td>2.490393e+06</td>\n",
       "      <td>498.078630</td>\n",
       "      <td>414.250000</td>\n",
       "      <td>351.529270</td>\n",
       "      <td>1.235728e+05</td>\n",
       "      <td>8.11</td>\n",
       "      <td>58.197600</td>\n",
       "      <td>133.106000</td>\n",
       "      <td>184.033000</td>\n",
       "      <td>276.282500</td>\n",
       "      <td>414.250000</td>\n",
       "      <td>615.56250</td>\n",
       "      <td>908.125000</td>\n",
       "      <td>1145.146500</td>\n",
       "      <td>1760.102400</td>\n",
       "      <td>4881.050000</td>\n",
       "      <td>2.707547</td>\n",
       "      <td>15.945079</td>\n",
       "    </tr>\n",
       "  </tbody>\n",
       "</table>\n",
       "</div>"
      ],
      "text/plain": [
       "                     N  NMISS           SUM        MEAN      MEDIAN  \\\n",
       "age             5000.0    0.0  2.351280e+05   47.025600   47.000000   \n",
       "ed              5000.0    0.0  7.271500e+04   14.543000   14.000000   \n",
       "employ          5000.0    0.0  4.865200e+04    9.730400    7.000000   \n",
       "income          5000.0    0.0  2.737980e+05   54.759600   38.000000   \n",
       "debtinc         5000.0    0.0  4.977080e+04    9.954160    8.800000   \n",
       "creddebt        5000.0    0.0  9.286628e+03    1.857326    0.926437   \n",
       "othdebt         5000.0    0.0  1.827230e+04    3.654460    2.098540   \n",
       "spoused         5000.0    0.0  3.056400e+04    6.112800   -1.000000   \n",
       "reside          5000.0    0.0  1.102000e+04    2.204000    2.000000   \n",
       "pets            5000.0    0.0  1.533700e+04    3.067400    2.000000   \n",
       "pets_cats       5000.0    0.0  2.502000e+03    0.500400    0.000000   \n",
       "pets_dogs       5000.0    0.0  1.962000e+03    0.392400    0.000000   \n",
       "pets_birds      5000.0    0.0  5.520000e+02    0.110400    0.000000   \n",
       "pets_reptiles   5000.0    0.0  2.780000e+02    0.055600    0.000000   \n",
       "pets_small      5000.0    0.0  5.730000e+02    0.114600    0.000000   \n",
       "pets_saltfish   5000.0    0.0  2.330000e+02    0.046600    0.000000   \n",
       "pets_freshfish  5000.0    0.0  9.237000e+03    1.847400    0.000000   \n",
       "address         5000.0    0.0  8.201200e+04   16.402400   14.000000   \n",
       "cars            5000.0    0.0  1.065300e+04    2.130600    2.000000   \n",
       "carvalue        5000.0    0.0  1.161629e+05   23.232580   17.000000   \n",
       "commutetime     4998.0    2.0  1.266770e+05   25.345538   25.000000   \n",
       "cardtenure      5000.0    0.0  8.327900e+04   16.655800   14.000000   \n",
       "card2tenure     5000.0    0.0  6.542200e+04   13.084400   12.000000   \n",
       "tenure          5000.0    0.0  1.910240e+05   38.204800   38.000000   \n",
       "longmon         5000.0    0.0  6.735725e+04   13.471450    9.550000   \n",
       "longten         4997.0    3.0  3.542232e+06  708.871753  350.000000   \n",
       "tollmon         5000.0    0.0  6.632225e+04   13.264450    0.000000   \n",
       "tollten         5000.0    0.0  2.889163e+06  577.832510    0.000000   \n",
       "equipmon        5000.0    0.0  6.495655e+04   12.991310    0.000000   \n",
       "equipten        5000.0    0.0  2.350882e+06  470.176400    0.000000   \n",
       "cardmon         5000.0    0.0  7.721925e+04   15.443850   13.750000   \n",
       "cardten         4998.0    2.0  3.600951e+06  720.478391  425.000000   \n",
       "wiremon         5000.0    0.0  5.350595e+04   10.701190    0.000000   \n",
       "wireten         5000.0    0.0  2.109923e+06  421.984610    0.000000   \n",
       "hourstv         5000.0    0.0  9.822500e+04   19.645000   20.000000   \n",
       "total_spend     5000.0    0.0  2.490393e+06  498.078630  414.250000   \n",
       "\n",
       "                        STD           VAR    MIN         P1          P5  \\\n",
       "age               17.770338  3.157849e+02  18.00  18.000000   20.000000   \n",
       "ed                 3.281083  1.076550e+01   6.00   8.000000    9.000000   \n",
       "employ             9.690929  9.391410e+01   0.00   0.000000    0.000000   \n",
       "income            55.377511  3.066669e+03   9.00   9.000000   13.000000   \n",
       "debtinc            6.399783  4.095723e+01   0.00   0.700000    1.900000   \n",
       "creddebt           3.415732  1.166722e+01   0.00   0.033160    0.101088   \n",
       "othdebt            5.395172  2.910788e+01   0.00   0.114299    0.287692   \n",
       "spoused            7.743518  5.996207e+01  -1.00  -1.000000   -1.000000   \n",
       "reside             1.393977  1.943173e+00   1.00   1.000000    1.000000   \n",
       "pets               3.414497  1.165879e+01   0.00   0.000000    0.000000   \n",
       "pets_cats          0.860783  7.409480e-01   0.00   0.000000    0.000000   \n",
       "pets_dogs          0.796084  6.337490e-01   0.00   0.000000    0.000000   \n",
       "pets_birds         0.494227  2.442607e-01   0.00   0.000000    0.000000   \n",
       "pets_reptiles      0.325776  1.061299e-01   0.00   0.000000    0.000000   \n",
       "pets_small         0.568798  3.235315e-01   0.00   0.000000    0.000000   \n",
       "pets_saltfish      0.469545  2.204725e-01   0.00   0.000000    0.000000   \n",
       "pets_freshfish     3.074801  9.454404e+00   0.00   0.000000    0.000000   \n",
       "address           12.397484  1.536976e+02   0.00   0.000000    1.000000   \n",
       "cars               1.307473  1.709486e+00   0.00   0.000000    0.000000   \n",
       "carvalue          21.231637  4.507824e+02  -1.00  -1.000000   -1.000000   \n",
       "commutetime        5.879149  3.456439e+01   8.00  13.000000   16.000000   \n",
       "cardtenure        12.020958  1.445034e+02   0.00   0.000000    1.000000   \n",
       "card2tenure        9.119403  8.316351e+01   0.00   0.000000    1.000000   \n",
       "tenure            22.661888  5.135612e+02   0.00   1.000000    4.000000   \n",
       "longmon           12.773381  1.631593e+02   0.90   1.850000    2.900000   \n",
       "longten          979.291072  9.590110e+05   0.90   2.400000   12.620000   \n",
       "tollmon           16.310018  2.660167e+02   0.00   0.000000    0.000000   \n",
       "tollten          949.151586  9.008887e+05   0.00   0.000000    0.000000   \n",
       "equipmon          19.212943  3.691372e+02   0.00   0.000000    0.000000   \n",
       "equipten         912.220624  8.321465e+05   0.00   0.000000    0.000000   \n",
       "cardmon           15.007569  2.252271e+02   0.00   0.000000    0.000000   \n",
       "cardten          922.225527  8.504999e+05   0.00   0.000000    0.000000   \n",
       "wiremon           19.799837  3.920335e+02   0.00   0.000000    0.000000   \n",
       "wireten         1001.003287  1.002008e+06   0.00   0.000000    0.000000   \n",
       "hourstv            5.165609  2.668351e+01   0.00   0.000000   12.000000   \n",
       "total_spend      351.529270  1.235728e+05   8.11  58.197600  133.106000   \n",
       "\n",
       "                       P10         P25         P50         P75          P90  \\\n",
       "age              23.000000   31.000000   47.000000    62.00000    72.000000   \n",
       "ed               10.000000   12.000000   14.000000    17.00000    19.000000   \n",
       "employ            0.000000    2.000000    7.000000    15.00000    25.000000   \n",
       "income           16.000000   24.000000   38.000000    67.00000   109.100000   \n",
       "debtinc           2.800000    5.100000    8.800000    13.60000    18.600000   \n",
       "creddebt          0.175682    0.385520    0.926437     2.06382     4.299470   \n",
       "othdebt           0.457997    0.980301    2.098540     4.31478     8.062046   \n",
       "spoused          -1.000000   -1.000000   -1.000000    14.00000    16.000000   \n",
       "reside            1.000000    1.000000    2.000000     3.00000     4.000000   \n",
       "pets              0.000000    0.000000    2.000000     5.00000     8.000000   \n",
       "pets_cats         0.000000    0.000000    0.000000     1.00000     2.000000   \n",
       "pets_dogs         0.000000    0.000000    0.000000     0.00000     2.000000   \n",
       "pets_birds        0.000000    0.000000    0.000000     0.00000     0.000000   \n",
       "pets_reptiles     0.000000    0.000000    0.000000     0.00000     0.000000   \n",
       "pets_small        0.000000    0.000000    0.000000     0.00000     0.000000   \n",
       "pets_saltfish     0.000000    0.000000    0.000000     0.00000     0.000000   \n",
       "pets_freshfish    0.000000    0.000000    0.000000     4.00000     7.000000   \n",
       "address           2.000000    6.000000   14.000000    25.00000    34.000000   \n",
       "cars              1.000000    1.000000    2.000000     3.00000     4.000000   \n",
       "carvalue          2.490000    9.200000   17.000000    31.10000    52.910000   \n",
       "commutetime      18.000000   21.000000   25.000000    29.00000    33.000000   \n",
       "cardtenure        2.000000    6.000000   14.000000    26.00000    35.000000   \n",
       "card2tenure       2.000000    5.000000   12.000000    21.00000    27.000000   \n",
       "tenure            7.000000   18.000000   38.000000    59.00000    69.000000   \n",
       "longmon           3.700000    5.700000    9.550000    16.55000    27.000000   \n",
       "longten          28.290000  104.600000  350.000000   913.85000  1808.840000   \n",
       "tollmon           0.000000    0.000000    0.000000    24.50000    35.500000   \n",
       "tollten           0.000000    0.000000    0.000000   885.45000  1918.955000   \n",
       "equipmon          0.000000    0.000000    0.000000    30.80000    42.700000   \n",
       "equipten          0.000000    0.000000    0.000000   510.16250  1912.325000   \n",
       "cardmon           0.000000    0.000000   13.750000    22.75000    34.000000   \n",
       "cardten           0.000000    0.000000  425.000000  1080.00000  1871.500000   \n",
       "wiremon           0.000000    0.000000    0.000000    20.96250    40.860000   \n",
       "wireten           0.000000    0.000000    0.000000    89.96250  1778.535000   \n",
       "hourstv          14.000000   17.000000   20.000000    23.00000    26.000000   \n",
       "total_spend     184.033000  276.282500  414.250000   615.56250   908.125000   \n",
       "\n",
       "                        P95          P99           MAX   skewness    kurtosis  \n",
       "age               76.000000    79.000000     79.000000   0.090760   -1.187030  \n",
       "ed                20.000000    21.000000     23.000000   0.003734   -0.607063  \n",
       "employ            31.000000    39.000000     52.000000   1.251918    1.052865  \n",
       "income           147.000000   272.010000   1073.000000   5.179216   57.077037  \n",
       "debtinc           22.200000    29.200000     43.100000   1.061934    1.376458  \n",
       "creddebt           6.373010    14.280358    109.072596  11.120041  248.533427  \n",
       "othdebt           11.815981    24.064260    141.459150   7.589924  125.145234  \n",
       "spoused           18.000000    20.000000     24.000000   0.330430   -1.591980  \n",
       "reside             5.000000     6.000000      9.000000   1.228809    1.007474  \n",
       "pets              10.000000    13.000000     21.000000   1.193780    0.895993  \n",
       "pets_cats          2.000000     3.000000      6.000000   1.880430    3.505584  \n",
       "pets_dogs          2.000000     3.000000      7.000000   2.330118    5.878362  \n",
       "pets_birds         1.000000     3.000000      5.000000   5.246436   29.822617  \n",
       "pets_reptiles      0.000000     2.000000      6.000000   7.586118   72.828648  \n",
       "pets_small         1.000000     3.000000      7.000000   5.908676   39.154151  \n",
       "pets_saltfish      0.000000     2.000000      8.000000  11.193568  133.344304  \n",
       "pets_freshfish     8.000000    11.000000     16.000000   1.455173    1.034373  \n",
       "address           40.000000    48.000000     57.000000   0.706546   -0.229674  \n",
       "cars               4.000000     6.000000      8.000000   0.501722    0.328388  \n",
       "carvalue          72.000000    92.001000     99.600000   1.474026    1.951707  \n",
       "commutetime       35.000000    40.030000     48.000000   0.290280    0.134869  \n",
       "cardtenure        38.000000    40.000000     40.000000   0.429361   -1.056112  \n",
       "card2tenure       29.000000    30.000000     30.000000   0.351675   -1.133717  \n",
       "tenure            72.000000    72.000000     72.000000  -0.036345   -1.330462  \n",
       "longmon           36.757500    65.201000    179.850000   3.271923   18.503390  \n",
       "longten         2567.650000  4689.066000  13046.500000   3.215724   16.982093  \n",
       "tollmon           43.500000    58.752500    173.000000   1.181605    2.319470  \n",
       "tollten         2620.212500  3977.270500   6923.450000   2.089870    4.879252  \n",
       "equipmon          49.052500    63.300500    106.300000   1.081748   -0.115126  \n",
       "equipten        2600.990000  3679.457500   6525.300000   2.214949    4.786260  \n",
       "cardmon           42.000000    64.250000    188.500000   1.687653    7.167083  \n",
       "cardten         2455.750000  4011.200000  13705.000000   2.645855   15.162751  \n",
       "wiremon           51.305000    78.304000    186.250000   1.998013    4.783787  \n",
       "wireten         2687.922500  4530.186000  12858.650000   3.304203   15.464364  \n",
       "hourstv           28.000000    31.000000     36.000000  -0.644712    2.348422  \n",
       "total_spend     1145.146500  1760.102400   4881.050000   2.707547   15.945079  "
      ]
     },
     "execution_count": 10,
     "metadata": {},
     "output_type": "execute_result"
    }
   ],
   "source": [
    "def var_summary(x):\n",
    "    return pd.Series([x.count(), x.isnull().sum(), x.sum(), x.mean(), x.median(),  x.std(), x.var(), x.min(),\n",
    "                      x.dropna().quantile(0.01), x.dropna().quantile(0.05),x.dropna().quantile(0.10),x.dropna().quantile(0.25),\n",
    "                      x.dropna().quantile(0.50),x.dropna().quantile(0.75), x.dropna().quantile(0.90),x.dropna().quantile(0.95),\n",
    "                      x.dropna().quantile(0.99),x.max(),x.skew(),x.kurtosis()], \n",
    "                  index=['N', 'NMISS', 'SUM', 'MEAN','MEDIAN', 'STD', 'VAR', 'MIN', 'P1' , 'P5' ,'P10' ,'P25' ,'P50' ,\n",
    "                         'P75' ,'P90' ,'P95' ,'P99' ,'MAX','skewness','kurtosis'])\n",
    "\n",
    "num_summary=data_num.apply(lambda x: var_summary(x)).T\n",
    "num_summary"
   ]
  },
  {
   "cell_type": "code",
   "execution_count": 11,
   "metadata": {},
   "outputs": [],
   "source": [
    "num_summary.to_csv(\"num_summary.csv\")"
   ]
  },
  {
   "cell_type": "markdown",
   "metadata": {},
   "source": [
    "##### Univariate Analysis"
   ]
  },
  {
   "cell_type": "code",
   "execution_count": 12,
   "metadata": {},
   "outputs": [
    {
     "data": {
      "image/png": "[encoded data removed]",
      "text/plain": [
       "<Figure size 432x288 with 1 Axes>"
      ]
     },
     "metadata": {
      "needs_background": "light"
     },
     "output_type": "display_data"
    },
    {
     "data": {
      "image/png": "[encoded data removed]",
      "text/plain": [
       "<Figure size 432x288 with 1 Axes>"
      ]
     },
     "metadata": {
      "needs_background": "light"
     },
     "output_type": "display_data"
    },
    {
     "data": {
      "image/png": "[encoded data removed]",
      "text/plain": [
       "<Figure size 432x288 with 1 Axes>"
      ]
     },
     "metadata": {
      "needs_background": "light"
     },
     "output_type": "display_data"
    },
    {
     "data": {
      "image/png": "[encoded data removed]",
      "text/plain": [
       "<Figure size 432x288 with 1 Axes>"
      ]
     },
     "metadata": {
      "needs_background": "light"
     },
     "output_type": "display_data"
    },
    {
     "data": {
      "image/png": "[encoded data removed]",
      "text/plain": [
       "<Figure size 432x288 with 1 Axes>"
      ]
     },
     "metadata": {
      "needs_background": "light"
     },
     "output_type": "display_data"
    },
    {
     "data": {
      "image/png": "[encoded data removed]",
      "text/plain": [
       "<Figure size 432x288 with 1 Axes>"
      ]
     },
     "metadata": {
      "needs_background": "light"
     },
     "output_type": "display_data"
    },
    {
     "data": {
      "image/png": "[encoded data removed]",
      "text/plain": [
       "<Figure size 432x288 with 1 Axes>"
      ]
     },
     "metadata": {
      "needs_background": "light"
     },
     "output_type": "display_data"
    },
    {
     "data": {
      "image/png": "[encoded data removed]",
      "text/plain": [
       "<Figure size 432x288 with 1 Axes>"
      ]
     },
     "metadata": {
      "needs_background": "light"
     },
     "output_type": "display_data"
    },
    {
     "data": {
      "image/png": "[encoded data removed]",
      "text/plain": [
       "<Figure size 432x288 with 1 Axes>"
      ]
     },
     "metadata": {
      "needs_background": "light"
     },
     "output_type": "display_data"
    },
    {
     "data": {
      "image/png": "[encoded data removed]",
      "text/plain": [
       "<Figure size 432x288 with 1 Axes>"
      ]
     },
     "metadata": {
      "needs_background": "light"
     },
     "output_type": "display_data"
    },
    {
     "data": {
      "image/png": "[encoded data removed]",
      "text/plain": [
       "<Figure size 432x288 with 1 Axes>"
      ]
     },
     "metadata": {
      "needs_background": "light"
     },
     "output_type": "display_data"
    },
    {
     "data": {
      "image/png": "[encoded data removed]",
      "text/plain": [
       "<Figure size 432x288 with 1 Axes>"
      ]
     },
     "metadata": {
      "needs_background": "light"
     },
     "output_type": "display_data"
    },
    {
     "data": {
      "image/png": "[encoded data removed]",
      "text/plain": [
       "<Figure size 432x288 with 1 Axes>"
      ]
     },
     "metadata": {
      "needs_background": "light"
     },
     "output_type": "display_data"
    },
    {
     "data": {
      "image/png": "[encoded data removed]",
      "text/plain": [
       "<Figure size 432x288 with 1 Axes>"
      ]
     },
     "metadata": {
      "needs_background": "light"
     },
     "output_type": "display_data"
    },
    {
     "data": {
      "image/png": "[encoded data removed]",
      "text/plain": [
       "<Figure size 432x288 with 1 Axes>"
      ]
     },
     "metadata": {
      "needs_background": "light"
     },
     "output_type": "display_data"
    },
    {
     "data": {
      "image/png": "[encoded data removed]",
      "text/plain": [
       "<Figure size 432x288 with 1 Axes>"
      ]
     },
     "metadata": {
      "needs_background": "light"
     },
     "output_type": "display_data"
    },
    {
     "data": {
      "image/png": "[encoded data removed]",
      "text/plain": [
       "<Figure size 432x288 with 1 Axes>"
      ]
     },
     "metadata": {
      "needs_background": "light"
     },
     "output_type": "display_data"
    },
    {
     "data": {
      "image/png": "[encoded data removed]",
      "text/plain": [
       "<Figure size 432x288 with 1 Axes>"
      ]
     },
     "metadata": {
      "needs_background": "light"
     },
     "output_type": "display_data"
    },
    {
     "data": {
      "image/png": "[encoded data removed]",
      "text/plain": [
       "<Figure size 432x288 with 1 Axes>"
      ]
     },
     "metadata": {
      "needs_background": "light"
     },
     "output_type": "display_data"
    },
    {
     "data": {
      "image/png": "[encoded data removed]",
      "text/plain": [
       "<Figure size 432x288 with 1 Axes>"
      ]
     },
     "metadata": {
      "needs_background": "light"
     },
     "output_type": "display_data"
    },
    {
     "data": {
      "image/png": "[encoded data removed]",
      "text/plain": [
       "<Figure size 432x288 with 1 Axes>"
      ]
     },
     "metadata": {
      "needs_background": "light"
     },
     "output_type": "display_data"
    },
    {
     "data": {
      "image/png": "[encoded data removed]",
      "text/plain": [
       "<Figure size 432x288 with 1 Axes>"
      ]
     },
     "metadata": {
      "needs_background": "light"
     },
     "output_type": "display_data"
    },
    {
     "data": {
      "image/png": "[encoded data removed]",
      "text/plain": [
       "<Figure size 432x288 with 1 Axes>"
      ]
     },
     "metadata": {
      "needs_background": "light"
     },
     "output_type": "display_data"
    },
    {
     "data": {
      "image/png": "[encoded data removed]",
      "text/plain": [
       "<Figure size 432x288 with 1 Axes>"
      ]
     },
     "metadata": {
      "needs_background": "light"
     },
     "output_type": "display_data"
    },
    {
     "data": {
      "image/png": "[encoded data removed]",
      "text/plain": [
       "<Figure size 432x288 with 1 Axes>"
      ]
     },
     "metadata": {
      "needs_background": "light"
     },
     "output_type": "display_data"
    },
    {
     "data": {
      "image/png": "[encoded data removed]",
      "text/plain": [
       "<Figure size 432x288 with 1 Axes>"
      ]
     },
     "metadata": {
      "needs_background": "light"
     },
     "output_type": "display_data"
    },
    {
     "data": {
      "image/png": "[encoded data removed]",
      "text/plain": [
       "<Figure size 432x288 with 1 Axes>"
      ]
     },
     "metadata": {
      "needs_background": "light"
     },
     "output_type": "display_data"
    },
    {
     "data": {
      "image/png": "[encoded data removed]",
      "text/plain": [
       "<Figure size 432x288 with 1 Axes>"
      ]
     },
     "metadata": {
      "needs_background": "light"
     },
     "output_type": "display_data"
    },
    {
     "data": {
      "image/png": "[encoded data removed]",
      "text/plain": [
       "<Figure size 432x288 with 1 Axes>"
      ]
     },
     "metadata": {
      "needs_background": "light"
     },
     "output_type": "display_data"
    },
    {
     "data": {
      "image/png": "[encoded data removed]",
      "text/plain": [
       "<Figure size 432x288 with 1 Axes>"
      ]
     },
     "metadata": {
      "needs_background": "light"
     },
     "output_type": "display_data"
    },
    {
     "data": {
      "image/png": "[encoded data removed]",
      "text/plain": [
       "<Figure size 432x288 with 1 Axes>"
      ]
     },
     "metadata": {
      "needs_background": "light"
     },
     "output_type": "display_data"
    },
    {
     "data": {
      "image/png": "[encoded data removed]",
      "text/plain": [
       "<Figure size 432x288 with 1 Axes>"
      ]
     },
     "metadata": {
      "needs_background": "light"
     },
     "output_type": "display_data"
    },
    {
     "data": {
      "image/png": "[encoded data removed]",
      "text/plain": [
       "<Figure size 432x288 with 1 Axes>"
      ]
     },
     "metadata": {
      "needs_background": "light"
     },
     "output_type": "display_data"
    },
    {
     "data": {
      "image/png": "[encoded data removed]",
      "text/plain": [
       "<Figure size 432x288 with 1 Axes>"
      ]
     },
     "metadata": {
      "needs_background": "light"
     },
     "output_type": "display_data"
    },
    {
     "data": {
      "image/png": "[encoded data removed]",
      "text/plain": [
       "<Figure size 432x288 with 1 Axes>"
      ]
     },
     "metadata": {
      "needs_background": "light"
     },
     "output_type": "display_data"
    },
    {
     "data": {
      "image/png": "[encoded data removed]",
      "text/plain": [
       "<Figure size 432x288 with 1 Axes>"
      ]
     },
     "metadata": {
      "needs_background": "light"
     },
     "output_type": "display_data"
    }
   ],
   "source": [
    "for var in data_num.columns:\n",
    "    plt.hist(var,bins = 10, data = data_num, density=True)\n",
    "    plt.xlabel(var)\n",
    "    plt.show()\n",
    "    "
   ]
  },
  {
   "cell_type": "markdown",
   "metadata": {},
   "source": [
    "#### Outliers Treatment - Categorical data\n",
    "\n",
    "  * Any category in categorical colum which has value less than 1% inside the data , is considered to be outlier\n",
    "  * Also if there are more than 25 categories inside any column , that column should not give any proper insight in the dataset , thus considered as an irrelevent column\n",
    " \n",
    "    Following is the method to extract outliers in the categorical columns"
   ]
  },
  {
   "cell_type": "code",
   "execution_count": 13,
   "metadata": {},
   "outputs": [
    {
     "name": "stdout",
     "output_type": "stream",
     "text": [
      "Outliers: ['commute']\n",
      "\n",
      "More than 25 categories []\n"
     ]
    }
   ],
   "source": [
    "#check if there is any outliers in categorical variables & also if no of categories are more than 25\n",
    "\n",
    "outlier_checklist = []\n",
    "cat_morethan_25 = []\n",
    "for x in data_cat.columns:                                 #loop through each column\n",
    "    \n",
    "    value_count = (data_cat[x].value_counts()/len(data_cat))*100 #get value count percentage for each categorical variable\n",
    "    \n",
    "    if len(value_count) > 25:\n",
    "        cat_morethan_25.append(x)                          #check if categories are more than 25\n",
    "\n",
    "    for i in range(len(value_count)):                      #loop through each observation of value count \n",
    "        if value_count.iloc[i] < 1:\n",
    "            outlier_checklist.append(x)                    #append those variable in list which has any outliers i.e. < 1% value count\n",
    "            break\n",
    "\n",
    "            \n",
    "print('Outliers:', outlier_checklist)\n",
    "print()\n",
    "print('More than 25 categories',cat_morethan_25)"
   ]
  },
  {
   "cell_type": "markdown",
   "metadata": {},
   "source": [
    "##### as per data dictionary\n",
    "'commute' variable already has been categorized into multiple dummy variables named as  'commutecar','commutemotorcycle', 'commutebus' etc..... , hence we can remove the variable 'commute' to avoid multicolliniearity"
   ]
  },
  {
   "cell_type": "code",
   "execution_count": 14,
   "metadata": {},
   "outputs": [],
   "source": [
    "data_cat.drop(columns='commute', axis = 1, inplace=True)   # outlier removal"
   ]
  },
  {
   "cell_type": "markdown",
   "metadata": {},
   "source": [
    "#### Outlier Treatment -  Numerical data\n",
    "    \n",
    "     For numerical datasets , we are capping extremes with their respective P1 and P99 percentile values"
   ]
  },
  {
   "cell_type": "code",
   "execution_count": 15,
   "metadata": {},
   "outputs": [],
   "source": [
    "# define UDF to cap outliers\n",
    "\n",
    "def outlier_capping(x):\n",
    "    x = x.clip(lower = x.quantile(0.01) , upper = x.quantile(0.99))\n",
    "    return x\n",
    "\n",
    "# applying outliercapping to all numerical vars\n",
    "\n",
    "data_num = data_num.apply(outlier_capping)"
   ]
  },
  {
   "cell_type": "markdown",
   "metadata": {},
   "source": [
    "### Missing Values"
   ]
  },
  {
   "cell_type": "code",
   "execution_count": 16,
   "metadata": {},
   "outputs": [],
   "source": [
    "# Numerical Dataset"
   ]
  },
  {
   "cell_type": "code",
   "execution_count": 17,
   "metadata": {},
   "outputs": [
    {
     "name": "stdout",
     "output_type": "stream",
     "text": [
      "number of missing values in numeric columns \n",
      "commutetime : 2\n",
      "longten : 3\n",
      "cardten : 2\n"
     ]
    }
   ],
   "source": [
    "# check which columns contain misssing values & show the number of missing values in each of those\n",
    "\n",
    "print('number of missing values in numeric columns ')\n",
    "for i in range(len(data_num.columns)):\n",
    "    missing_perc = data_num[data_num.columns[i]].isnull().sum()\n",
    "    \n",
    "    if missing_perc != 0:\n",
    "        print(data_num.columns[i], ':',missing_perc )   "
   ]
  },
  {
   "cell_type": "code",
   "execution_count": 18,
   "metadata": {},
   "outputs": [],
   "source": [
    "# missing value imputation\n",
    "def num_missing_imputation(x):\n",
    "    x.fillna(x.median(),inplace = True)\n",
    "    return x\n",
    " \n",
    "data_num =data_num.apply(num_missing_imputation)  "
   ]
  },
  {
   "cell_type": "code",
   "execution_count": 19,
   "metadata": {},
   "outputs": [],
   "source": [
    "# categorical dataset"
   ]
  },
  {
   "cell_type": "code",
   "execution_count": 20,
   "metadata": {},
   "outputs": [
    {
     "name": "stdout",
     "output_type": "stream",
     "text": [
      "number of missing values in numeric columns \n",
      "townsize : 2\n"
     ]
    }
   ],
   "source": [
    "# check which columns contain misssing values & show the number of missing values in each of those\n",
    "\n",
    "print('number of missing values in numeric columns ')\n",
    "for i in range(len(data_cat.columns)):\n",
    "    missing_perc = data_cat[data_cat.columns[i]].isnull().sum()\n",
    "    \n",
    "    if missing_perc != 0:\n",
    "        print(data_cat.columns[i], ':',missing_perc )   "
   ]
  },
  {
   "cell_type": "code",
   "execution_count": 21,
   "metadata": {},
   "outputs": [],
   "source": [
    "# missing value imputation\n",
    "def cat_missing_imputation(x):\n",
    "    x.fillna(x.mode()[0], inplace = True)\n",
    "    return x\n",
    "\n",
    "data_cat = data_cat.apply(cat_missing_imputation)"
   ]
  },
  {
   "cell_type": "code",
   "execution_count": 22,
   "metadata": {},
   "outputs": [
    {
     "data": {
      "text/plain": [
       "(5000, 77)"
      ]
     },
     "execution_count": 22,
     "metadata": {},
     "output_type": "execute_result"
    }
   ],
   "source": [
    "data_cat.shape"
   ]
  },
  {
   "cell_type": "code",
   "execution_count": 23,
   "metadata": {},
   "outputs": [
    {
     "data": {
      "text/html": [
       "<div>\n",
       "<style scoped>\n",
       "    .dataframe tbody tr th:only-of-type {\n",
       "        vertical-align: middle;\n",
       "    }\n",
       "\n",
       "    .dataframe tbody tr th {\n",
       "        vertical-align: top;\n",
       "    }\n",
       "\n",
       "    .dataframe thead th {\n",
       "        text-align: right;\n",
       "    }\n",
       "</style>\n",
       "<table border=\"1\" class=\"dataframe\">\n",
       "  <thead>\n",
       "    <tr style=\"text-align: right;\">\n",
       "      <th></th>\n",
       "      <th>region_2</th>\n",
       "      <th>region_3</th>\n",
       "      <th>region_4</th>\n",
       "      <th>region_5</th>\n",
       "      <th>townsize_2.0</th>\n",
       "      <th>townsize_3.0</th>\n",
       "      <th>townsize_4.0</th>\n",
       "      <th>townsize_5.0</th>\n",
       "      <th>gender_1</th>\n",
       "      <th>agecat_3</th>\n",
       "      <th>...</th>\n",
       "      <th>owncd_1</th>\n",
       "      <th>ownpda_1</th>\n",
       "      <th>ownpc_1</th>\n",
       "      <th>ownipod_1</th>\n",
       "      <th>owngame_1</th>\n",
       "      <th>ownfax_1</th>\n",
       "      <th>news_1</th>\n",
       "      <th>response_01_1</th>\n",
       "      <th>response_02_1</th>\n",
       "      <th>response_03_1</th>\n",
       "    </tr>\n",
       "  </thead>\n",
       "  <tbody>\n",
       "    <tr>\n",
       "      <th>0</th>\n",
       "      <td>0</td>\n",
       "      <td>0</td>\n",
       "      <td>0</td>\n",
       "      <td>0</td>\n",
       "      <td>1</td>\n",
       "      <td>0</td>\n",
       "      <td>0</td>\n",
       "      <td>0</td>\n",
       "      <td>1</td>\n",
       "      <td>0</td>\n",
       "      <td>...</td>\n",
       "      <td>0</td>\n",
       "      <td>0</td>\n",
       "      <td>0</td>\n",
       "      <td>1</td>\n",
       "      <td>1</td>\n",
       "      <td>0</td>\n",
       "      <td>0</td>\n",
       "      <td>0</td>\n",
       "      <td>1</td>\n",
       "      <td>0</td>\n",
       "    </tr>\n",
       "    <tr>\n",
       "      <th>1</th>\n",
       "      <td>0</td>\n",
       "      <td>0</td>\n",
       "      <td>0</td>\n",
       "      <td>1</td>\n",
       "      <td>0</td>\n",
       "      <td>0</td>\n",
       "      <td>0</td>\n",
       "      <td>1</td>\n",
       "      <td>0</td>\n",
       "      <td>0</td>\n",
       "      <td>...</td>\n",
       "      <td>1</td>\n",
       "      <td>1</td>\n",
       "      <td>1</td>\n",
       "      <td>1</td>\n",
       "      <td>1</td>\n",
       "      <td>1</td>\n",
       "      <td>1</td>\n",
       "      <td>0</td>\n",
       "      <td>0</td>\n",
       "      <td>0</td>\n",
       "    </tr>\n",
       "    <tr>\n",
       "      <th>2</th>\n",
       "      <td>0</td>\n",
       "      <td>1</td>\n",
       "      <td>0</td>\n",
       "      <td>0</td>\n",
       "      <td>0</td>\n",
       "      <td>0</td>\n",
       "      <td>1</td>\n",
       "      <td>0</td>\n",
       "      <td>1</td>\n",
       "      <td>0</td>\n",
       "      <td>...</td>\n",
       "      <td>1</td>\n",
       "      <td>0</td>\n",
       "      <td>0</td>\n",
       "      <td>0</td>\n",
       "      <td>0</td>\n",
       "      <td>0</td>\n",
       "      <td>1</td>\n",
       "      <td>0</td>\n",
       "      <td>0</td>\n",
       "      <td>0</td>\n",
       "    </tr>\n",
       "    <tr>\n",
       "      <th>3</th>\n",
       "      <td>0</td>\n",
       "      <td>0</td>\n",
       "      <td>1</td>\n",
       "      <td>0</td>\n",
       "      <td>0</td>\n",
       "      <td>1</td>\n",
       "      <td>0</td>\n",
       "      <td>0</td>\n",
       "      <td>0</td>\n",
       "      <td>0</td>\n",
       "      <td>...</td>\n",
       "      <td>1</td>\n",
       "      <td>0</td>\n",
       "      <td>1</td>\n",
       "      <td>1</td>\n",
       "      <td>1</td>\n",
       "      <td>0</td>\n",
       "      <td>1</td>\n",
       "      <td>1</td>\n",
       "      <td>0</td>\n",
       "      <td>0</td>\n",
       "    </tr>\n",
       "    <tr>\n",
       "      <th>4</th>\n",
       "      <td>1</td>\n",
       "      <td>0</td>\n",
       "      <td>0</td>\n",
       "      <td>0</td>\n",
       "      <td>1</td>\n",
       "      <td>0</td>\n",
       "      <td>0</td>\n",
       "      <td>0</td>\n",
       "      <td>0</td>\n",
       "      <td>1</td>\n",
       "      <td>...</td>\n",
       "      <td>1</td>\n",
       "      <td>0</td>\n",
       "      <td>1</td>\n",
       "      <td>0</td>\n",
       "      <td>1</td>\n",
       "      <td>0</td>\n",
       "      <td>0</td>\n",
       "      <td>0</td>\n",
       "      <td>1</td>\n",
       "      <td>0</td>\n",
       "    </tr>\n",
       "  </tbody>\n",
       "</table>\n",
       "<p>5 rows × 151 columns</p>\n",
       "</div>"
      ],
      "text/plain": [
       "   region_2  region_3  region_4  region_5  townsize_2.0  townsize_3.0  \\\n",
       "0         0         0         0         0             1             0   \n",
       "1         0         0         0         1             0             0   \n",
       "2         0         1         0         0             0             0   \n",
       "3         0         0         1         0             0             1   \n",
       "4         1         0         0         0             1             0   \n",
       "\n",
       "   townsize_4.0  townsize_5.0  gender_1  agecat_3  ...  owncd_1  ownpda_1  \\\n",
       "0             0             0         1         0  ...        0         0   \n",
       "1             0             1         0         0  ...        1         1   \n",
       "2             1             0         1         0  ...        1         0   \n",
       "3             0             0         0         0  ...        1         0   \n",
       "4             0             0         0         1  ...        1         0   \n",
       "\n",
       "   ownpc_1  ownipod_1  owngame_1  ownfax_1  news_1  response_01_1  \\\n",
       "0        0          1          1         0       0              0   \n",
       "1        1          1          1         1       1              0   \n",
       "2        0          0          0         0       1              0   \n",
       "3        1          1          1         0       1              1   \n",
       "4        1          0          1         0       0              0   \n",
       "\n",
       "   response_02_1  response_03_1  \n",
       "0              1              0  \n",
       "1              0              0  \n",
       "2              0              0  \n",
       "3              0              0  \n",
       "4              1              0  \n",
       "\n",
       "[5 rows x 151 columns]"
      ]
     },
     "execution_count": 23,
     "metadata": {},
     "output_type": "execute_result"
    }
   ],
   "source": [
    "# converting categorical data to numerical\n",
    "data_cat = data_cat.astype('category')\n",
    "data_cat_dummy = pd.get_dummies(data_cat, prefix=data_cat.columns, drop_first=True)\n",
    "data_cat_dummy.head()"
   ]
  },
  {
   "cell_type": "code",
   "execution_count": 24,
   "metadata": {},
   "outputs": [],
   "source": [
    "# combine both categorical and numerical data into one\n",
    "data_final = pd.concat([data_num,data_cat_dummy],axis = 1)"
   ]
  },
  {
   "cell_type": "code",
   "execution_count": 25,
   "metadata": {},
   "outputs": [
    {
     "data": {
      "text/plain": [
       "((5000, 36), (5000, 151), (5000, 187))"
      ]
     },
     "execution_count": 25,
     "metadata": {},
     "output_type": "execute_result"
    }
   ],
   "source": [
    "data_num.shape, data_cat_dummy.shape,data_final.shape"
   ]
  },
  {
   "cell_type": "markdown",
   "metadata": {},
   "source": [
    "## Linear Regression"
   ]
  },
  {
   "cell_type": "markdown",
   "metadata": {},
   "source": [
    "#### variance check"
   ]
  },
  {
   "cell_type": "code",
   "execution_count": 22,
   "metadata": {},
   "outputs": [
    {
     "data": {
      "text/html": [
       "<div>\n",
       "<style scoped>\n",
       "    .dataframe tbody tr th:only-of-type {\n",
       "        vertical-align: middle;\n",
       "    }\n",
       "\n",
       "    .dataframe tbody tr th {\n",
       "        vertical-align: top;\n",
       "    }\n",
       "\n",
       "    .dataframe thead th {\n",
       "        text-align: right;\n",
       "    }\n",
       "</style>\n",
       "<table border=\"1\" class=\"dataframe\">\n",
       "  <thead>\n",
       "    <tr style=\"text-align: right;\">\n",
       "      <th></th>\n",
       "      <th>cols</th>\n",
       "      <th>cv</th>\n",
       "    </tr>\n",
       "  </thead>\n",
       "  <tbody>\n",
       "    <tr>\n",
       "      <th>104</th>\n",
       "      <td>commute_9</td>\n",
       "      <td>0.070888</td>\n",
       "    </tr>\n",
       "    <tr>\n",
       "      <th>101</th>\n",
       "      <td>commute_6</td>\n",
       "      <td>0.094224</td>\n",
       "    </tr>\n",
       "    <tr>\n",
       "      <th>97</th>\n",
       "      <td>commute_2</td>\n",
       "      <td>0.100504</td>\n",
       "    </tr>\n",
       "    <tr>\n",
       "      <th>102</th>\n",
       "      <td>commute_7</td>\n",
       "      <td>0.106428</td>\n",
       "    </tr>\n",
       "    <tr>\n",
       "      <th>121</th>\n",
       "      <td>reason_3</td>\n",
       "      <td>0.107385</td>\n",
       "    </tr>\n",
       "  </tbody>\n",
       "</table>\n",
       "</div>"
      ],
      "text/plain": [
       "          cols        cv\n",
       "104  commute_9  0.070888\n",
       "101  commute_6  0.094224\n",
       "97   commute_2  0.100504\n",
       "102  commute_7  0.106428\n",
       "121   reason_3  0.107385"
      ]
     },
     "execution_count": 22,
     "metadata": {},
     "output_type": "execute_result"
    }
   ],
   "source": [
    "# remove features having coeficient of variance less than 0.05\n",
    "\n",
    "cv_vars = data_final.apply(lambda x: np.mean(x)/np.std(x))\n",
    "cv_vars =  pd.DataFrame(cv_vars).reset_index()\n",
    "cv_vars.columns = ['cols','cv']\n",
    "# check if variation is less than 0.05 in any of the variables\n",
    "cv_vars.sort_values(by = 'cv' , ascending = True).head()"
   ]
  },
  {
   "cell_type": "markdown",
   "metadata": {},
   "source": [
    "none of the features has variance less than 0.05"
   ]
  },
  {
   "cell_type": "markdown",
   "metadata": {},
   "source": [
    "#### Normality check"
   ]
  },
  {
   "cell_type": "code",
   "execution_count": 23,
   "metadata": {},
   "outputs": [
    {
     "data": {
      "image/png": "[encoded data removed]",
      "text/plain": [
       "<Figure size 432x288 with 1 Axes>"
      ]
     },
     "metadata": {
      "needs_background": "light"
     },
     "output_type": "display_data"
    }
   ],
   "source": [
    "# check if Y variable is normally distributed\n",
    "\n",
    "sns.distplot(data_final.total_spend)\n",
    "plt.show()"
   ]
  },
  {
   "cell_type": "markdown",
   "metadata": {},
   "source": [
    "total_spend is somehow positively skewed .. let's run shapiro test for confirm whether total spend is normally distributed \n",
    "\n",
    "###### Shapiro Test\n",
    "H0 : total_spend is normally distributed\n",
    "\n",
    "Ha : total_spend in not normally distributed "
   ]
  },
  {
   "cell_type": "code",
   "execution_count": 24,
   "metadata": {},
   "outputs": [
    {
     "name": "stdout",
     "output_type": "stream",
     "text": [
      "test_statistics 0.8646361827850342 ; pvalue 0.0\n"
     ]
    }
   ],
   "source": [
    "shapiro_test = stats.shapiro(data_final.total_spend)\n",
    "#test results\n",
    "print('test_statistics',shapiro_test[0] ,';','pvalue', shapiro_test[1])"
   ]
  },
  {
   "cell_type": "markdown",
   "metadata": {},
   "source": [
    "###### Conclusion : \n",
    "    as p value is less than 0.05 , we can reject the H0 and hence conclude that total_spend is not normally distribted"
   ]
  },
  {
   "cell_type": "code",
   "execution_count": 25,
   "metadata": {},
   "outputs": [
    {
     "data": {
      "image/png": "[encoded data removed]",
      "text/plain": [
       "<Figure size 432x288 with 1 Axes>"
      ]
     },
     "metadata": {
      "needs_background": "light"
     },
     "output_type": "display_data"
    }
   ],
   "source": [
    "stats.probplot(data_final.total_spend, dist=\"norm\", plot=plt )\n",
    "plt.show()"
   ]
  },
  {
   "cell_type": "markdown",
   "metadata": {},
   "source": [
    "##### applying boxcox technique to make y variable normal"
   ]
  },
  {
   "cell_type": "code",
   "execution_count": 26,
   "metadata": {},
   "outputs": [
    {
     "data": {
      "image/png": "[encoded data removed]",
      "text/plain": [
       "<Figure size 432x288 with 1 Axes>"
      ]
     },
     "metadata": {
      "needs_background": "light"
     },
     "output_type": "display_data"
    }
   ],
   "source": [
    "data_final['total_spend_bx'],fitted_lambda = stats.boxcox(data_final['total_spend'])\n",
    "\n",
    "sns.distplot(data_final.total_spend_bx)\n",
    "plt.show()"
   ]
  },
  {
   "cell_type": "code",
   "execution_count": 27,
   "metadata": {},
   "outputs": [
    {
     "data": {
      "image/png": "[encoded data removed]",
      "text/plain": [
       "<Figure size 432x288 with 1 Axes>"
      ]
     },
     "metadata": {
      "needs_background": "light"
     },
     "output_type": "display_data"
    }
   ],
   "source": [
    "stats.probplot(data_final.total_spend_bx, dist=\"norm\", plot=plt )\n",
    "plt.show()"
   ]
  },
  {
   "cell_type": "markdown",
   "metadata": {},
   "source": [
    "    *  the above figure shows that boxcox(Y) is normally distributed \n"
   ]
  },
  {
   "cell_type": "code",
   "execution_count": 28,
   "metadata": {},
   "outputs": [],
   "source": [
    "data_final.drop(columns=['total_spend'],axis = 1,inplace=True)  # dropping total spend"
   ]
  },
  {
   "cell_type": "code",
   "execution_count": 29,
   "metadata": {},
   "outputs": [],
   "source": [
    "#removing decimals from some column names\n",
    "data_final.rename(columns= {'townsize_2.0' : 'townsize_2','townsize_3.0' :'townsize_3', \n",
    "                            'townsize_4.0':'townsize_4','townsize_5.0' :'townsize_5'} ,inplace=True)  \n"
   ]
  },
  {
   "cell_type": "markdown",
   "metadata": {},
   "source": [
    "#### Linearity check "
   ]
  },
  {
   "cell_type": "code",
   "execution_count": 30,
   "metadata": {},
   "outputs": [
    {
     "data": {
      "text/html": [
       "<div>\n",
       "<style scoped>\n",
       "    .dataframe tbody tr th:only-of-type {\n",
       "        vertical-align: middle;\n",
       "    }\n",
       "\n",
       "    .dataframe tbody tr th {\n",
       "        vertical-align: top;\n",
       "    }\n",
       "\n",
       "    .dataframe thead th {\n",
       "        text-align: right;\n",
       "    }\n",
       "</style>\n",
       "<table border=\"1\" class=\"dataframe\">\n",
       "  <thead>\n",
       "    <tr style=\"text-align: right;\">\n",
       "      <th></th>\n",
       "      <th>X_vars</th>\n",
       "      <th>Corr_with_Y</th>\n",
       "    </tr>\n",
       "  </thead>\n",
       "  <tbody>\n",
       "    <tr>\n",
       "      <th>36</th>\n",
       "      <td>region_3</td>\n",
       "      <td>0.000356</td>\n",
       "    </tr>\n",
       "    <tr>\n",
       "      <th>159</th>\n",
       "      <td>card2tenurecat_3</td>\n",
       "      <td>0.000831</td>\n",
       "    </tr>\n",
       "    <tr>\n",
       "      <th>136</th>\n",
       "      <td>cardtype_2</td>\n",
       "      <td>0.000985</td>\n",
       "    </tr>\n",
       "    <tr>\n",
       "      <th>41</th>\n",
       "      <td>townsize_4</td>\n",
       "      <td>0.001430</td>\n",
       "    </tr>\n",
       "    <tr>\n",
       "      <th>137</th>\n",
       "      <td>cardtype_3</td>\n",
       "      <td>0.001637</td>\n",
       "    </tr>\n",
       "    <tr>\n",
       "      <th>...</th>\n",
       "      <td>...</td>\n",
       "      <td>...</td>\n",
       "    </tr>\n",
       "    <tr>\n",
       "      <th>92</th>\n",
       "      <td>carcatvalue_3</td>\n",
       "      <td>0.266106</td>\n",
       "    </tr>\n",
       "    <tr>\n",
       "      <th>90</th>\n",
       "      <td>carcatvalue_1</td>\n",
       "      <td>0.287989</td>\n",
       "    </tr>\n",
       "    <tr>\n",
       "      <th>19</th>\n",
       "      <td>carvalue</td>\n",
       "      <td>0.312694</td>\n",
       "    </tr>\n",
       "    <tr>\n",
       "      <th>3</th>\n",
       "      <td>income</td>\n",
       "      <td>0.363695</td>\n",
       "    </tr>\n",
       "    <tr>\n",
       "      <th>195</th>\n",
       "      <td>total_spend_bx</td>\n",
       "      <td>1.000000</td>\n",
       "    </tr>\n",
       "  </tbody>\n",
       "</table>\n",
       "<p>196 rows × 2 columns</p>\n",
       "</div>"
      ],
      "text/plain": [
       "               X_vars  Corr_with_Y\n",
       "36           region_3     0.000356\n",
       "159  card2tenurecat_3     0.000831\n",
       "136        cardtype_2     0.000985\n",
       "41         townsize_4     0.001430\n",
       "137        cardtype_3     0.001637\n",
       "..                ...          ...\n",
       "92      carcatvalue_3     0.266106\n",
       "90      carcatvalue_1     0.287989\n",
       "19           carvalue     0.312694\n",
       "3              income     0.363695\n",
       "195    total_spend_bx     1.000000\n",
       "\n",
       "[196 rows x 2 columns]"
      ]
     },
     "execution_count": 30,
     "metadata": {},
     "output_type": "execute_result"
    }
   ],
   "source": [
    "# all independent variables should have some linear relation with the dependent variable\n",
    "# check for correlation of dependent variable with other variables\n",
    "corr_matrix = data_final.corr().loc[:,'total_spend_bx'].reset_index()\n",
    "corr_matrix.columns = ['X_vars', 'Corr_with_Y']\n",
    "corr_matrix.Corr_with_Y = abs(corr_matrix.Corr_with_Y)\n",
    "corr_matrix.sort_values(by = 'Corr_with_Y')"
   ]
  },
  {
   "cell_type": "code",
   "execution_count": 31,
   "metadata": {},
   "outputs": [
    {
     "data": {
      "text/plain": [
       "176"
      ]
     },
     "execution_count": 31,
     "metadata": {},
     "output_type": "execute_result"
    }
   ],
   "source": [
    "# get the columns which has correlation less than 10%\n",
    "\n",
    "len(corr_matrix.loc[corr_matrix.Corr_with_Y < 0.1, : ])\n"
   ]
  },
  {
   "cell_type": "markdown",
   "metadata": {},
   "source": [
    "    majority of columns has less correlation ; thus it is better to wait for feature engineering before dropping any columns"
   ]
  },
  {
   "cell_type": "markdown",
   "metadata": {},
   "source": [
    "# Feature Engineering : variable reduction"
   ]
  },
  {
   "cell_type": "code",
   "execution_count": 32,
   "metadata": {},
   "outputs": [],
   "source": [
    "# first divide data into features and target(y) variable\n",
    "y = data_final.total_spend_bx\n",
    "features = data_final[data_final.columns.difference( ['total_spend_bx'] )]"
   ]
  },
  {
   "cell_type": "code",
   "execution_count": 33,
   "metadata": {},
   "outputs": [
    {
     "data": {
      "text/plain": [
       "((5000,), (5000, 195))"
      ]
     },
     "execution_count": 33,
     "metadata": {},
     "output_type": "execute_result"
    }
   ],
   "source": [
    "y.shape, features.shape"
   ]
  },
  {
   "cell_type": "markdown",
   "metadata": {},
   "source": [
    "### 1. RFE\n",
    "   \n",
    "   ##### Choose how many features to select from RFE"
   ]
  },
  {
   "cell_type": "code",
   "execution_count": 34,
   "metadata": {},
   "outputs": [
    {
     "data": {
      "text/html": [
       "<div>\n",
       "<style scoped>\n",
       "    .dataframe tbody tr th:only-of-type {\n",
       "        vertical-align: middle;\n",
       "    }\n",
       "\n",
       "    .dataframe tbody tr th {\n",
       "        vertical-align: top;\n",
       "    }\n",
       "\n",
       "    .dataframe thead th {\n",
       "        text-align: right;\n",
       "    }\n",
       "</style>\n",
       "<table border=\"1\" class=\"dataframe\">\n",
       "  <thead>\n",
       "    <tr style=\"text-align: right;\">\n",
       "      <th></th>\n",
       "      <th>n_features</th>\n",
       "      <th>R_square</th>\n",
       "      <th>RMSE_tr</th>\n",
       "      <th>RMSE_ts</th>\n",
       "    </tr>\n",
       "  </thead>\n",
       "  <tbody>\n",
       "    <tr>\n",
       "      <th>17</th>\n",
       "      <td>180</td>\n",
       "      <td>0.367620</td>\n",
       "      <td>262.335387</td>\n",
       "      <td>260.465375</td>\n",
       "    </tr>\n",
       "    <tr>\n",
       "      <th>16</th>\n",
       "      <td>170</td>\n",
       "      <td>0.366534</td>\n",
       "      <td>262.460855</td>\n",
       "      <td>260.405611</td>\n",
       "    </tr>\n",
       "    <tr>\n",
       "      <th>15</th>\n",
       "      <td>160</td>\n",
       "      <td>0.361729</td>\n",
       "      <td>263.503887</td>\n",
       "      <td>261.525626</td>\n",
       "    </tr>\n",
       "    <tr>\n",
       "      <th>14</th>\n",
       "      <td>150</td>\n",
       "      <td>0.360627</td>\n",
       "      <td>263.702771</td>\n",
       "      <td>262.227690</td>\n",
       "    </tr>\n",
       "    <tr>\n",
       "      <th>13</th>\n",
       "      <td>140</td>\n",
       "      <td>0.360498</td>\n",
       "      <td>263.631769</td>\n",
       "      <td>262.237210</td>\n",
       "    </tr>\n",
       "    <tr>\n",
       "      <th>12</th>\n",
       "      <td>130</td>\n",
       "      <td>0.359221</td>\n",
       "      <td>264.305893</td>\n",
       "      <td>261.973766</td>\n",
       "    </tr>\n",
       "    <tr>\n",
       "      <th>11</th>\n",
       "      <td>120</td>\n",
       "      <td>0.358554</td>\n",
       "      <td>264.465222</td>\n",
       "      <td>262.174629</td>\n",
       "    </tr>\n",
       "    <tr>\n",
       "      <th>10</th>\n",
       "      <td>110</td>\n",
       "      <td>0.358036</td>\n",
       "      <td>264.547810</td>\n",
       "      <td>262.488966</td>\n",
       "    </tr>\n",
       "    <tr>\n",
       "      <th>9</th>\n",
       "      <td>100</td>\n",
       "      <td>0.357371</td>\n",
       "      <td>264.735931</td>\n",
       "      <td>262.608357</td>\n",
       "    </tr>\n",
       "    <tr>\n",
       "      <th>8</th>\n",
       "      <td>90</td>\n",
       "      <td>0.356082</td>\n",
       "      <td>265.021253</td>\n",
       "      <td>263.139738</td>\n",
       "    </tr>\n",
       "    <tr>\n",
       "      <th>7</th>\n",
       "      <td>80</td>\n",
       "      <td>0.354512</td>\n",
       "      <td>265.222602</td>\n",
       "      <td>262.774849</td>\n",
       "    </tr>\n",
       "    <tr>\n",
       "      <th>6</th>\n",
       "      <td>70</td>\n",
       "      <td>0.350951</td>\n",
       "      <td>265.613865</td>\n",
       "      <td>264.353121</td>\n",
       "    </tr>\n",
       "    <tr>\n",
       "      <th>5</th>\n",
       "      <td>60</td>\n",
       "      <td>0.347742</td>\n",
       "      <td>266.408059</td>\n",
       "      <td>264.657752</td>\n",
       "    </tr>\n",
       "    <tr>\n",
       "      <th>4</th>\n",
       "      <td>50</td>\n",
       "      <td>0.343247</td>\n",
       "      <td>267.552440</td>\n",
       "      <td>264.657880</td>\n",
       "    </tr>\n",
       "    <tr>\n",
       "      <th>3</th>\n",
       "      <td>40</td>\n",
       "      <td>0.331329</td>\n",
       "      <td>270.108231</td>\n",
       "      <td>266.119744</td>\n",
       "    </tr>\n",
       "    <tr>\n",
       "      <th>2</th>\n",
       "      <td>30</td>\n",
       "      <td>0.209607</td>\n",
       "      <td>291.038313</td>\n",
       "      <td>288.340056</td>\n",
       "    </tr>\n",
       "    <tr>\n",
       "      <th>1</th>\n",
       "      <td>20</td>\n",
       "      <td>0.027088</td>\n",
       "      <td>328.922456</td>\n",
       "      <td>326.506165</td>\n",
       "    </tr>\n",
       "    <tr>\n",
       "      <th>0</th>\n",
       "      <td>10</td>\n",
       "      <td>0.026520</td>\n",
       "      <td>328.611065</td>\n",
       "      <td>326.187172</td>\n",
       "    </tr>\n",
       "  </tbody>\n",
       "</table>\n",
       "</div>"
      ],
      "text/plain": [
       "    n_features  R_square     RMSE_tr     RMSE_ts\n",
       "17         180  0.367620  262.335387  260.465375\n",
       "16         170  0.366534  262.460855  260.405611\n",
       "15         160  0.361729  263.503887  261.525626\n",
       "14         150  0.360627  263.702771  262.227690\n",
       "13         140  0.360498  263.631769  262.237210\n",
       "12         130  0.359221  264.305893  261.973766\n",
       "11         120  0.358554  264.465222  262.174629\n",
       "10         110  0.358036  264.547810  262.488966\n",
       "9          100  0.357371  264.735931  262.608357\n",
       "8           90  0.356082  265.021253  263.139738\n",
       "7           80  0.354512  265.222602  262.774849\n",
       "6           70  0.350951  265.613865  264.353121\n",
       "5           60  0.347742  266.408059  264.657752\n",
       "4           50  0.343247  267.552440  264.657880\n",
       "3           40  0.331329  270.108231  266.119744\n",
       "2           30  0.209607  291.038313  288.340056\n",
       "1           20  0.027088  328.922456  326.506165\n",
       "0           10  0.026520  328.611065  326.187172"
      ]
     },
     "execution_count": 34,
     "metadata": {},
     "output_type": "execute_result"
    }
   ],
   "source": [
    "n_features = []\n",
    "R_square = []\n",
    "RMSE_tr = []\n",
    "RMSE_ts = []\n",
    "for feature_num in range(10,186,10):\n",
    "    lm = LinearRegression()\n",
    "    #create the RFE model and select 50 attributes\n",
    "    rfe = RFE(lm, n_features_to_select=feature_num)\n",
    "    rfe = rfe.fit(features, y)\n",
    "    RFE_features = features.columns[rfe.get_support()]\n",
    "    X = features[RFE_features]\n",
    "    #split\n",
    "    X_train,X_test, y_train, y_test = train_test_split(X,y,test_size = 0.3, random_state = 777)\n",
    "\n",
    "    #ols model\n",
    "    eqn = 'total_spend_bx~'+'+'.join(X_train.columns)\n",
    "    ols_model = smp.ols(formula =eqn , data = data_final)\n",
    "    ols_model_output = ols_model.fit()\n",
    "    \n",
    "    #result\n",
    "    Cur_rsqr=ols_model_output.rsquared\n",
    "    train_predicted = inv_boxcox(ols_model_output.predict(X_train), fitted_lambda)\n",
    "    test_predicted = inv_boxcox(ols_model_output.predict(X_test), fitted_lambda)\n",
    "    train_actual = inv_boxcox(y_train, fitted_lambda)\n",
    "    test_actual = inv_boxcox(y_test, fitted_lambda)\n",
    "    RMSE_train = np.sqrt(np.mean(np.square((train_actual-train_predicted))))\n",
    "    RMSE_test = np.sqrt(np.mean(np.square((test_actual-test_predicted))))\n",
    "    \n",
    "    R_square.append(Cur_rsqr)\n",
    "    n_features.append(feature_num)\n",
    "    RMSE_tr.append(RMSE_train)\n",
    "    RMSE_ts.append(RMSE_test)\n",
    "    \n",
    "RFE_table = pd.DataFrame({'n_features': n_features,'R_square':R_square,'RMSE_tr':RMSE_tr,'RMSE_ts':RMSE_ts})\n",
    "RFE_table.columns = ['n_features','R_square','RMSE_tr','RMSE_ts']\n",
    "RFE_table.sort_values(by='R_square' , ascending = False,inplace = True)\n",
    "RFE_table"
   ]
  },
  {
   "cell_type": "markdown",
   "metadata": {},
   "source": [
    "#### Lets visualize the table on a plot for better understanding"
   ]
  },
  {
   "cell_type": "code",
   "execution_count": 35,
   "metadata": {},
   "outputs": [
    {
     "data": {
      "image/png": "[encoded data removed]",
      "text/plain": [
       "<Figure size 720x432 with 2 Axes>"
      ]
     },
     "metadata": {
      "needs_background": "light"
     },
     "output_type": "display_data"
    }
   ],
   "source": [
    "RFE_table.to_csv(\"RFE_Table.csv\") # saving table output\n",
    "\n",
    "# lets visualize the Rsquare at different features\n",
    "x = RFE_table.n_features\n",
    "fig, ax1 = plt.subplots()\n",
    "fig.set_figheight(6)\n",
    "fig.set_figwidth(10)\n",
    "\n",
    "color = 'tab:blue'\n",
    "ax1.set_xlabel('N_features')\n",
    "ax1.set_ylabel('R-Square', color=color)\n",
    "ax1.plot(x, RFE_table.R_square, \"-\",color = color, label = 'R-Square')\n",
    "ax1.tick_params(axis='y', labelcolor=color)\n",
    "ax1.set_xticks(range(10,186,10))\n",
    "\n",
    "ax2 = ax1.twinx()  # instantiate a second axes that shares the same x-axis\n",
    "\n",
    "color = 'tab:red'\n",
    "ax2.set_ylabel('RMSE', color=color)\n",
    "ax2.plot(x, RFE_table.RMSE_tr,\"--\" ,color = color, label = 'RMSE_train')\n",
    "ax2.tick_params(axis='y', labelcolor=color)\n",
    "\n",
    "plt.grid(True)\n",
    "fig.legend()\n",
    "fig.tight_layout() \n",
    "plt.show()# Print the coherence scores"
   ]
  },
  {
   "cell_type": "markdown",
   "metadata": {},
   "source": [
    "   We chose **n_features to be 50**, as it there is not much drop in the Rsquare compared to all the features as well as RMSE is also not very high"
   ]
  },
  {
   "cell_type": "markdown",
   "metadata": {},
   "source": [
    "#### Applying RFE with n_features = 80"
   ]
  },
  {
   "cell_type": "code",
   "execution_count": 99,
   "metadata": {},
   "outputs": [],
   "source": [
    "#Checking RFE \n",
    "\n",
    "lm = LinearRegression()\n",
    "#create the RFE model and select 50 attributes\n",
    "rfe = RFE(lm, n_features_to_select=50)\n",
    "rfe = rfe.fit(features, y)"
   ]
  },
  {
   "cell_type": "code",
   "execution_count": 100,
   "metadata": {},
   "outputs": [
    {
     "data": {
      "text/plain": [
       "(5000, 50)"
      ]
     },
     "execution_count": 100,
     "metadata": {},
     "output_type": "execute_result"
    }
   ],
   "source": [
    "RFE_50_cols = features.columns[rfe.get_support()]\n",
    "features_rfe = features[RFE_50_cols]\n",
    "features_rfe.shape"
   ]
  },
  {
   "cell_type": "markdown",
   "metadata": {},
   "source": [
    "### 2. F- Regression"
   ]
  },
  {
   "cell_type": "code",
   "execution_count": 101,
   "metadata": {},
   "outputs": [],
   "source": [
    "F_values, p_values  = f_regression(features_rfe, y )"
   ]
  },
  {
   "cell_type": "code",
   "execution_count": 102,
   "metadata": {},
   "outputs": [
    {
     "data": {
      "text/html": [
       "<div>\n",
       "<style scoped>\n",
       "    .dataframe tbody tr th:only-of-type {\n",
       "        vertical-align: middle;\n",
       "    }\n",
       "\n",
       "    .dataframe tbody tr th {\n",
       "        vertical-align: top;\n",
       "    }\n",
       "\n",
       "    .dataframe thead th {\n",
       "        text-align: right;\n",
       "    }\n",
       "</style>\n",
       "<table border=\"1\" class=\"dataframe\">\n",
       "  <thead>\n",
       "    <tr style=\"text-align: right;\">\n",
       "      <th></th>\n",
       "      <th>Variable</th>\n",
       "      <th>F_Value</th>\n",
       "      <th>P_Value</th>\n",
       "    </tr>\n",
       "  </thead>\n",
       "  <tbody>\n",
       "    <tr>\n",
       "      <th>0</th>\n",
       "      <td>carbought_0</td>\n",
       "      <td>1.219486</td>\n",
       "      <td>0.270</td>\n",
       "    </tr>\n",
       "    <tr>\n",
       "      <th>1</th>\n",
       "      <td>carbought_1</td>\n",
       "      <td>0.138002</td>\n",
       "      <td>0.710</td>\n",
       "    </tr>\n",
       "    <tr>\n",
       "      <th>2</th>\n",
       "      <td>carcatvalue_1</td>\n",
       "      <td>452.011243</td>\n",
       "      <td>0.000</td>\n",
       "    </tr>\n",
       "    <tr>\n",
       "      <th>3</th>\n",
       "      <td>carcatvalue_2</td>\n",
       "      <td>41.085026</td>\n",
       "      <td>0.000</td>\n",
       "    </tr>\n",
       "    <tr>\n",
       "      <th>4</th>\n",
       "      <td>carcatvalue_3</td>\n",
       "      <td>380.892430</td>\n",
       "      <td>0.000</td>\n",
       "    </tr>\n",
       "    <tr>\n",
       "      <th>5</th>\n",
       "      <td>card2_2</td>\n",
       "      <td>28.745731</td>\n",
       "      <td>0.000</td>\n",
       "    </tr>\n",
       "    <tr>\n",
       "      <th>6</th>\n",
       "      <td>card2_3</td>\n",
       "      <td>36.983558</td>\n",
       "      <td>0.000</td>\n",
       "    </tr>\n",
       "    <tr>\n",
       "      <th>7</th>\n",
       "      <td>card2_4</td>\n",
       "      <td>18.457956</td>\n",
       "      <td>0.000</td>\n",
       "    </tr>\n",
       "    <tr>\n",
       "      <th>8</th>\n",
       "      <td>card2_5</td>\n",
       "      <td>15.727325</td>\n",
       "      <td>0.000</td>\n",
       "    </tr>\n",
       "    <tr>\n",
       "      <th>9</th>\n",
       "      <td>card2tenurecat_3</td>\n",
       "      <td>0.003449</td>\n",
       "      <td>0.953</td>\n",
       "    </tr>\n",
       "    <tr>\n",
       "      <th>10</th>\n",
       "      <td>card_2</td>\n",
       "      <td>75.195314</td>\n",
       "      <td>0.000</td>\n",
       "    </tr>\n",
       "    <tr>\n",
       "      <th>11</th>\n",
       "      <td>card_3</td>\n",
       "      <td>65.132641</td>\n",
       "      <td>0.000</td>\n",
       "    </tr>\n",
       "    <tr>\n",
       "      <th>12</th>\n",
       "      <td>card_4</td>\n",
       "      <td>28.579782</td>\n",
       "      <td>0.000</td>\n",
       "    </tr>\n",
       "    <tr>\n",
       "      <th>13</th>\n",
       "      <td>card_5</td>\n",
       "      <td>10.671055</td>\n",
       "      <td>0.001</td>\n",
       "    </tr>\n",
       "    <tr>\n",
       "      <th>14</th>\n",
       "      <td>cardtenurecat_3</td>\n",
       "      <td>5.636267</td>\n",
       "      <td>0.018</td>\n",
       "    </tr>\n",
       "    <tr>\n",
       "      <th>15</th>\n",
       "      <td>cardtenurecat_4</td>\n",
       "      <td>3.654704</td>\n",
       "      <td>0.056</td>\n",
       "    </tr>\n",
       "    <tr>\n",
       "      <th>16</th>\n",
       "      <td>cardtenurecat_5</td>\n",
       "      <td>16.324765</td>\n",
       "      <td>0.000</td>\n",
       "    </tr>\n",
       "    <tr>\n",
       "      <th>17</th>\n",
       "      <td>carown_0</td>\n",
       "      <td>129.627649</td>\n",
       "      <td>0.000</td>\n",
       "    </tr>\n",
       "    <tr>\n",
       "      <th>18</th>\n",
       "      <td>carown_1</td>\n",
       "      <td>74.212304</td>\n",
       "      <td>0.000</td>\n",
       "    </tr>\n",
       "    <tr>\n",
       "      <th>19</th>\n",
       "      <td>cartype_0</td>\n",
       "      <td>3.163528</td>\n",
       "      <td>0.075</td>\n",
       "    </tr>\n",
       "    <tr>\n",
       "      <th>20</th>\n",
       "      <td>cartype_1</td>\n",
       "      <td>1.071705</td>\n",
       "      <td>0.301</td>\n",
       "    </tr>\n",
       "    <tr>\n",
       "      <th>21</th>\n",
       "      <td>commute_10</td>\n",
       "      <td>1.017176</td>\n",
       "      <td>0.313</td>\n",
       "    </tr>\n",
       "    <tr>\n",
       "      <th>22</th>\n",
       "      <td>commute_2</td>\n",
       "      <td>0.295794</td>\n",
       "      <td>0.587</td>\n",
       "    </tr>\n",
       "    <tr>\n",
       "      <th>23</th>\n",
       "      <td>commute_3</td>\n",
       "      <td>1.110005</td>\n",
       "      <td>0.292</td>\n",
       "    </tr>\n",
       "    <tr>\n",
       "      <th>24</th>\n",
       "      <td>commute_4</td>\n",
       "      <td>5.087448</td>\n",
       "      <td>0.024</td>\n",
       "    </tr>\n",
       "    <tr>\n",
       "      <th>25</th>\n",
       "      <td>commute_5</td>\n",
       "      <td>0.139497</td>\n",
       "      <td>0.709</td>\n",
       "    </tr>\n",
       "    <tr>\n",
       "      <th>26</th>\n",
       "      <td>commute_6</td>\n",
       "      <td>0.093693</td>\n",
       "      <td>0.760</td>\n",
       "    </tr>\n",
       "    <tr>\n",
       "      <th>27</th>\n",
       "      <td>commute_7</td>\n",
       "      <td>0.314981</td>\n",
       "      <td>0.575</td>\n",
       "    </tr>\n",
       "    <tr>\n",
       "      <th>28</th>\n",
       "      <td>commute_8</td>\n",
       "      <td>0.373233</td>\n",
       "      <td>0.541</td>\n",
       "    </tr>\n",
       "    <tr>\n",
       "      <th>29</th>\n",
       "      <td>commute_9</td>\n",
       "      <td>0.098404</td>\n",
       "      <td>0.754</td>\n",
       "    </tr>\n",
       "    <tr>\n",
       "      <th>30</th>\n",
       "      <td>commutecat_2</td>\n",
       "      <td>1.110005</td>\n",
       "      <td>0.292</td>\n",
       "    </tr>\n",
       "    <tr>\n",
       "      <th>31</th>\n",
       "      <td>commutecat_3</td>\n",
       "      <td>2.542749</td>\n",
       "      <td>0.111</td>\n",
       "    </tr>\n",
       "    <tr>\n",
       "      <th>32</th>\n",
       "      <td>commutecat_4</td>\n",
       "      <td>0.114889</td>\n",
       "      <td>0.735</td>\n",
       "    </tr>\n",
       "    <tr>\n",
       "      <th>33</th>\n",
       "      <td>commutecat_5</td>\n",
       "      <td>1.017176</td>\n",
       "      <td>0.313</td>\n",
       "    </tr>\n",
       "    <tr>\n",
       "      <th>34</th>\n",
       "      <td>inccat_2</td>\n",
       "      <td>22.512164</td>\n",
       "      <td>0.000</td>\n",
       "    </tr>\n",
       "    <tr>\n",
       "      <th>35</th>\n",
       "      <td>inccat_3</td>\n",
       "      <td>56.905947</td>\n",
       "      <td>0.000</td>\n",
       "    </tr>\n",
       "    <tr>\n",
       "      <th>36</th>\n",
       "      <td>inccat_4</td>\n",
       "      <td>163.681979</td>\n",
       "      <td>0.000</td>\n",
       "    </tr>\n",
       "    <tr>\n",
       "      <th>37</th>\n",
       "      <td>inccat_5</td>\n",
       "      <td>281.047361</td>\n",
       "      <td>0.000</td>\n",
       "    </tr>\n",
       "    <tr>\n",
       "      <th>38</th>\n",
       "      <td>marital_1</td>\n",
       "      <td>1.713311</td>\n",
       "      <td>0.191</td>\n",
       "    </tr>\n",
       "    <tr>\n",
       "      <th>39</th>\n",
       "      <td>owndvd_1</td>\n",
       "      <td>134.832363</td>\n",
       "      <td>0.000</td>\n",
       "    </tr>\n",
       "    <tr>\n",
       "      <th>40</th>\n",
       "      <td>ownvcr_1</td>\n",
       "      <td>122.816415</td>\n",
       "      <td>0.000</td>\n",
       "    </tr>\n",
       "    <tr>\n",
       "      <th>41</th>\n",
       "      <td>polview_7</td>\n",
       "      <td>0.944628</td>\n",
       "      <td>0.331</td>\n",
       "    </tr>\n",
       "    <tr>\n",
       "      <th>42</th>\n",
       "      <td>reason_2</td>\n",
       "      <td>116.626184</td>\n",
       "      <td>0.000</td>\n",
       "    </tr>\n",
       "    <tr>\n",
       "      <th>43</th>\n",
       "      <td>reason_9</td>\n",
       "      <td>1.717404</td>\n",
       "      <td>0.190</td>\n",
       "    </tr>\n",
       "    <tr>\n",
       "      <th>44</th>\n",
       "      <td>retire_1</td>\n",
       "      <td>199.366942</td>\n",
       "      <td>0.000</td>\n",
       "    </tr>\n",
       "    <tr>\n",
       "      <th>45</th>\n",
       "      <td>spousedcat_1</td>\n",
       "      <td>6.081800</td>\n",
       "      <td>0.014</td>\n",
       "    </tr>\n",
       "    <tr>\n",
       "      <th>46</th>\n",
       "      <td>spousedcat_2</td>\n",
       "      <td>0.121541</td>\n",
       "      <td>0.727</td>\n",
       "    </tr>\n",
       "    <tr>\n",
       "      <th>47</th>\n",
       "      <td>spousedcat_3</td>\n",
       "      <td>3.013174</td>\n",
       "      <td>0.083</td>\n",
       "    </tr>\n",
       "    <tr>\n",
       "      <th>48</th>\n",
       "      <td>spousedcat_4</td>\n",
       "      <td>4.866301</td>\n",
       "      <td>0.027</td>\n",
       "    </tr>\n",
       "    <tr>\n",
       "      <th>49</th>\n",
       "      <td>spousedcat_5</td>\n",
       "      <td>2.212474</td>\n",
       "      <td>0.137</td>\n",
       "    </tr>\n",
       "  </tbody>\n",
       "</table>\n",
       "</div>"
      ],
      "text/plain": [
       "            Variable     F_Value P_Value\n",
       "0        carbought_0    1.219486   0.270\n",
       "1        carbought_1    0.138002   0.710\n",
       "2      carcatvalue_1  452.011243   0.000\n",
       "3      carcatvalue_2   41.085026   0.000\n",
       "4      carcatvalue_3  380.892430   0.000\n",
       "5            card2_2   28.745731   0.000\n",
       "6            card2_3   36.983558   0.000\n",
       "7            card2_4   18.457956   0.000\n",
       "8            card2_5   15.727325   0.000\n",
       "9   card2tenurecat_3    0.003449   0.953\n",
       "10            card_2   75.195314   0.000\n",
       "11            card_3   65.132641   0.000\n",
       "12            card_4   28.579782   0.000\n",
       "13            card_5   10.671055   0.001\n",
       "14   cardtenurecat_3    5.636267   0.018\n",
       "15   cardtenurecat_4    3.654704   0.056\n",
       "16   cardtenurecat_5   16.324765   0.000\n",
       "17          carown_0  129.627649   0.000\n",
       "18          carown_1   74.212304   0.000\n",
       "19         cartype_0    3.163528   0.075\n",
       "20         cartype_1    1.071705   0.301\n",
       "21        commute_10    1.017176   0.313\n",
       "22         commute_2    0.295794   0.587\n",
       "23         commute_3    1.110005   0.292\n",
       "24         commute_4    5.087448   0.024\n",
       "25         commute_5    0.139497   0.709\n",
       "26         commute_6    0.093693   0.760\n",
       "27         commute_7    0.314981   0.575\n",
       "28         commute_8    0.373233   0.541\n",
       "29         commute_9    0.098404   0.754\n",
       "30      commutecat_2    1.110005   0.292\n",
       "31      commutecat_3    2.542749   0.111\n",
       "32      commutecat_4    0.114889   0.735\n",
       "33      commutecat_5    1.017176   0.313\n",
       "34          inccat_2   22.512164   0.000\n",
       "35          inccat_3   56.905947   0.000\n",
       "36          inccat_4  163.681979   0.000\n",
       "37          inccat_5  281.047361   0.000\n",
       "38         marital_1    1.713311   0.191\n",
       "39          owndvd_1  134.832363   0.000\n",
       "40          ownvcr_1  122.816415   0.000\n",
       "41         polview_7    0.944628   0.331\n",
       "42          reason_2  116.626184   0.000\n",
       "43          reason_9    1.717404   0.190\n",
       "44          retire_1  199.366942   0.000\n",
       "45      spousedcat_1    6.081800   0.014\n",
       "46      spousedcat_2    0.121541   0.727\n",
       "47      spousedcat_3    3.013174   0.083\n",
       "48      spousedcat_4    4.866301   0.027\n",
       "49      spousedcat_5    2.212474   0.137"
      ]
     },
     "execution_count": 102,
     "metadata": {},
     "output_type": "execute_result"
    }
   ],
   "source": [
    "f_reg_results = list(itertools.zip_longest(features_rfe.columns, F_values,  ['%.3f' % p for p in p_values]))\n",
    "f_reg_results=pd.DataFrame(f_reg_results, columns=['Variable','F_Value', 'P_Value'])\n",
    "f_reg_results.sort_values(by='P_Value')\n",
    "\n",
    "f_reg_results.to_csv(\"f_regression_results.csv\") # saving results\n",
    "f_reg_results"
   ]
  },
  {
   "cell_type": "markdown",
   "metadata": {},
   "source": [
    "###### extracting columns which has pvalue less than 5%"
   ]
  },
  {
   "cell_type": "code",
   "execution_count": 103,
   "metadata": {},
   "outputs": [],
   "source": [
    "f_reg_results.P_Value = f_reg_results.P_Value.astype('float64')\n",
    "\n",
    "# extract those variable names which has pvalue less than 0.05\n",
    "f_reg_features = list(f_reg_results.loc[f_reg_results.P_Value < 0.05, 'Variable'])"
   ]
  },
  {
   "cell_type": "code",
   "execution_count": 104,
   "metadata": {},
   "outputs": [
    {
     "name": "stdout",
     "output_type": "stream",
     "text": [
      "['carcatvalue_1', 'carcatvalue_2', 'carcatvalue_3', 'card2_2', 'card2_3', 'card2_4', 'card2_5', 'card_2', 'card_3', 'card_4', 'card_5', 'cardtenurecat_3', 'cardtenurecat_5', 'carown_0', 'carown_1', 'commute_4', 'inccat_2', 'inccat_3', 'inccat_4', 'inccat_5', 'owndvd_1', 'ownvcr_1', 'reason_2', 'retire_1', 'spousedcat_1', 'spousedcat_4']\n",
      "----------------\n",
      "26\n"
     ]
    }
   ],
   "source": [
    "print(f_reg_features)\n",
    "print(\"----------------\")\n",
    "print(len(f_reg_features))"
   ]
  },
  {
   "cell_type": "markdown",
   "metadata": {},
   "source": [
    "   **26** features out 195 available features have been selected best after performing feature elimination with **RFE & F-Regression**\n",
    "   \n",
    "   Lets eliminate more by applying VIF in all the selected features"
   ]
  },
  {
   "cell_type": "markdown",
   "metadata": {},
   "source": [
    "### 3. VIF "
   ]
  },
  {
   "cell_type": "code",
   "execution_count": 112,
   "metadata": {},
   "outputs": [],
   "source": [
    "Final_list = [#'carcatvalue_1',\n",
    " 'carcatvalue_2',\n",
    " 'carcatvalue_3',\n",
    " 'card2_2',\n",
    " 'card2_3',\n",
    " 'card2_4',\n",
    " 'card2_5',\n",
    " 'card_2',\n",
    " 'card_3',\n",
    " 'card_4',\n",
    " 'card_5',\n",
    " 'cardtenurecat_3',\n",
    " 'cardtenurecat_5',\n",
    " 'carown_0',\n",
    " 'carown_1',\n",
    " 'commute_4',\n",
    " 'inccat_2',\n",
    " 'inccat_3',\n",
    " 'inccat_4',\n",
    " 'inccat_5',\n",
    " #'owndvd_1',\n",
    " #'ownvcr_1',\n",
    " 'reason_2',\n",
    " 'retire_1',\n",
    " 'spousedcat_1',\n",
    " 'spousedcat_4']"
   ]
  },
  {
   "cell_type": "code",
   "execution_count": 113,
   "metadata": {},
   "outputs": [],
   "source": [
    "X = features[Final_list] "
   ]
  },
  {
   "cell_type": "code",
   "execution_count": 114,
   "metadata": {},
   "outputs": [
    {
     "name": "stdout",
     "output_type": "stream",
     "text": [
      "no_of_variables :  23\n"
     ]
    },
    {
     "data": {
      "text/html": [
       "<div>\n",
       "<style scoped>\n",
       "    .dataframe tbody tr th:only-of-type {\n",
       "        vertical-align: middle;\n",
       "    }\n",
       "\n",
       "    .dataframe tbody tr th {\n",
       "        vertical-align: top;\n",
       "    }\n",
       "\n",
       "    .dataframe thead th {\n",
       "        text-align: right;\n",
       "    }\n",
       "</style>\n",
       "<table border=\"1\" class=\"dataframe\">\n",
       "  <thead>\n",
       "    <tr style=\"text-align: right;\">\n",
       "      <th></th>\n",
       "      <th>features</th>\n",
       "      <th>VIF_Factor</th>\n",
       "    </tr>\n",
       "  </thead>\n",
       "  <tbody>\n",
       "    <tr>\n",
       "      <th>9</th>\n",
       "      <td>card_5</td>\n",
       "      <td>1.233329</td>\n",
       "    </tr>\n",
       "    <tr>\n",
       "      <th>18</th>\n",
       "      <td>inccat_5</td>\n",
       "      <td>1.029438</td>\n",
       "    </tr>\n",
       "    <tr>\n",
       "      <th>17</th>\n",
       "      <td>inccat_4</td>\n",
       "      <td>0.715513</td>\n",
       "    </tr>\n",
       "    <tr>\n",
       "      <th>20</th>\n",
       "      <td>retire_1</td>\n",
       "      <td>0.545772</td>\n",
       "    </tr>\n",
       "    <tr>\n",
       "      <th>0</th>\n",
       "      <td>carcatvalue_2</td>\n",
       "      <td>0.542429</td>\n",
       "    </tr>\n",
       "    <tr>\n",
       "      <th>6</th>\n",
       "      <td>card_2</td>\n",
       "      <td>0.393641</td>\n",
       "    </tr>\n",
       "    <tr>\n",
       "      <th>22</th>\n",
       "      <td>spousedcat_4</td>\n",
       "      <td>0.387393</td>\n",
       "    </tr>\n",
       "    <tr>\n",
       "      <th>1</th>\n",
       "      <td>carcatvalue_3</td>\n",
       "      <td>0.378749</td>\n",
       "    </tr>\n",
       "    <tr>\n",
       "      <th>5</th>\n",
       "      <td>card2_5</td>\n",
       "      <td>0.361788</td>\n",
       "    </tr>\n",
       "    <tr>\n",
       "      <th>7</th>\n",
       "      <td>card_3</td>\n",
       "      <td>0.314096</td>\n",
       "    </tr>\n",
       "    <tr>\n",
       "      <th>19</th>\n",
       "      <td>reason_2</td>\n",
       "      <td>0.264892</td>\n",
       "    </tr>\n",
       "    <tr>\n",
       "      <th>16</th>\n",
       "      <td>inccat_3</td>\n",
       "      <td>0.245341</td>\n",
       "    </tr>\n",
       "    <tr>\n",
       "      <th>13</th>\n",
       "      <td>carown_1</td>\n",
       "      <td>0.231695</td>\n",
       "    </tr>\n",
       "    <tr>\n",
       "      <th>4</th>\n",
       "      <td>card2_4</td>\n",
       "      <td>0.230007</td>\n",
       "    </tr>\n",
       "    <tr>\n",
       "      <th>14</th>\n",
       "      <td>commute_4</td>\n",
       "      <td>0.222466</td>\n",
       "    </tr>\n",
       "    <tr>\n",
       "      <th>21</th>\n",
       "      <td>spousedcat_1</td>\n",
       "      <td>0.181422</td>\n",
       "    </tr>\n",
       "    <tr>\n",
       "      <th>3</th>\n",
       "      <td>card2_3</td>\n",
       "      <td>0.177433</td>\n",
       "    </tr>\n",
       "    <tr>\n",
       "      <th>8</th>\n",
       "      <td>card_4</td>\n",
       "      <td>0.114558</td>\n",
       "    </tr>\n",
       "    <tr>\n",
       "      <th>12</th>\n",
       "      <td>carown_0</td>\n",
       "      <td>0.089399</td>\n",
       "    </tr>\n",
       "    <tr>\n",
       "      <th>11</th>\n",
       "      <td>cardtenurecat_5</td>\n",
       "      <td>0.058257</td>\n",
       "    </tr>\n",
       "    <tr>\n",
       "      <th>10</th>\n",
       "      <td>cardtenurecat_3</td>\n",
       "      <td>0.037559</td>\n",
       "    </tr>\n",
       "    <tr>\n",
       "      <th>2</th>\n",
       "      <td>card2_2</td>\n",
       "      <td>0.036454</td>\n",
       "    </tr>\n",
       "    <tr>\n",
       "      <th>15</th>\n",
       "      <td>inccat_2</td>\n",
       "      <td>0.007437</td>\n",
       "    </tr>\n",
       "  </tbody>\n",
       "</table>\n",
       "</div>"
      ],
      "text/plain": [
       "           features  VIF_Factor\n",
       "9            card_5    1.233329\n",
       "18         inccat_5    1.029438\n",
       "17         inccat_4    0.715513\n",
       "20         retire_1    0.545772\n",
       "0     carcatvalue_2    0.542429\n",
       "6            card_2    0.393641\n",
       "22     spousedcat_4    0.387393\n",
       "1     carcatvalue_3    0.378749\n",
       "5           card2_5    0.361788\n",
       "7            card_3    0.314096\n",
       "19         reason_2    0.264892\n",
       "16         inccat_3    0.245341\n",
       "13         carown_1    0.231695\n",
       "4           card2_4    0.230007\n",
       "14        commute_4    0.222466\n",
       "21     spousedcat_1    0.181422\n",
       "3           card2_3    0.177433\n",
       "8            card_4    0.114558\n",
       "12         carown_0    0.089399\n",
       "11  cardtenurecat_5    0.058257\n",
       "10  cardtenurecat_3    0.037559\n",
       "2           card2_2    0.036454\n",
       "15         inccat_2    0.007437"
      ]
     },
     "execution_count": 114,
     "metadata": {},
     "output_type": "execute_result"
    }
   ],
   "source": [
    "vif = pd.DataFrame()\n",
    "\n",
    "vif['features'] = X.columns\n",
    "vif['VIF_Factor'] = [variance_inflation_factor(X.values, i) for i in range(X.shape[1])]\n",
    "print(\"no_of_variables : \" ,len(vif))\n",
    "vif.sort_values(by='VIF_Factor', ascending=False)\n"
   ]
  },
  {
   "cell_type": "markdown",
   "metadata": {},
   "source": [
    "       Restricting VIF under 2 with all the above variables.\n",
    "       \n",
    "       lets visualize correlation among final selected 23 variables , to avoid multicolinierity issue"
   ]
  },
  {
   "cell_type": "markdown",
   "metadata": {},
   "source": [
    "###### Multicolinierity check among all selected features"
   ]
  },
  {
   "cell_type": "code",
   "execution_count": 115,
   "metadata": {},
   "outputs": [
    {
     "data": {
      "text/plain": [
       "(5000, 23)"
      ]
     },
     "execution_count": 115,
     "metadata": {},
     "output_type": "execute_result"
    }
   ],
   "source": [
    "X.shape"
   ]
  },
  {
   "cell_type": "code",
   "execution_count": 116,
   "metadata": {},
   "outputs": [],
   "source": [
    "def corr_check(data, max_threshold = 0.9):\n",
    "    highly_correlated_cols = []\n",
    "    for feature in data.columns:\n",
    "        for eachcol in data.columns:\n",
    "            if feature != eachcol:\n",
    "                corr = (data[feature].corr(data[eachcol]))\n",
    "                if abs(corr) > max_threshold:\n",
    "                    highly_correlated_cols.append([feature,eachcol,corr])\n",
    "    if highly_correlated_cols == []:\n",
    "        return \"No two columns has correlation more than given threshold\"\n",
    "    else:\n",
    "        return highly_correlated_cols"
   ]
  },
  {
   "cell_type": "code",
   "execution_count": 117,
   "metadata": {},
   "outputs": [
    {
     "data": {
      "text/plain": [
       "'No two columns has correlation more than given threshold'"
      ]
     },
     "execution_count": 117,
     "metadata": {},
     "output_type": "execute_result"
    }
   ],
   "source": [
    "# check if any two columns has abs(correlation) more than 0.9\n",
    "corr_check(X)"
   ]
  },
  {
   "cell_type": "code",
   "execution_count": 118,
   "metadata": {},
   "outputs": [
    {
     "data": {
      "text/plain": [
       "'No two columns has correlation more than given threshold'"
      ]
     },
     "execution_count": 118,
     "metadata": {},
     "output_type": "execute_result"
    }
   ],
   "source": [
    "# what if we reduce threshold to 0.8\n",
    "corr_check(X,max_threshold=0.8)"
   ]
  },
  {
   "cell_type": "code",
   "execution_count": 119,
   "metadata": {},
   "outputs": [
    {
     "data": {
      "image/png": "[encoded data removed]",
      "text/plain": [
       "<Figure size 720x432 with 2 Axes>"
      ]
     },
     "metadata": {
      "needs_background": "light"
     },
     "output_type": "display_data"
    }
   ],
   "source": [
    "# lets visualize this over heatmap\n",
    "plt.figure(figsize = (10,6))\n",
    "sns.heatmap(X.corr())\n",
    "plt.show()"
   ]
  },
  {
   "cell_type": "markdown",
   "metadata": {},
   "source": [
    "  * No two X variable has too high correlation "
   ]
  },
  {
   "cell_type": "code",
   "execution_count": 120,
   "metadata": {},
   "outputs": [
    {
     "data": {
      "text/plain": [
       "(5000, 23)"
      ]
     },
     "execution_count": 120,
     "metadata": {},
     "output_type": "execute_result"
    }
   ],
   "source": [
    "X.shape"
   ]
  },
  {
   "cell_type": "markdown",
   "metadata": {},
   "source": [
    "##### Linearity check\n",
    "        In this step we can once again check linearity of all the selected variable with target variable"
   ]
  },
  {
   "cell_type": "code",
   "execution_count": 121,
   "metadata": {},
   "outputs": [],
   "source": [
    "def linerity_check(data, target_var, min_threshold = 0.1):\n",
    "    #create correlation matrix\n",
    "    least_correlated_with_Y = []\n",
    "    corr_matrix = pd.concat([data,target_var],axis=1).corr()\n",
    "    corr_matrix = corr_matrix.loc[:,target_var.name].reset_index()\n",
    "    corr_matrix.columns = ['X_vars', 'Corr_with_Y']\n",
    "    corr_matrix.Corr_with_Y = abs(corr_matrix.Corr_with_Y)\n",
    "    corr_matrix.sort_values(by = 'Corr_with_Y')\n",
    "    \n",
    "    return corr_matrix[corr_matrix.Corr_with_Y < min_threshold]"
   ]
  },
  {
   "cell_type": "code",
   "execution_count": 122,
   "metadata": {},
   "outputs": [
    {
     "name": "stdout",
     "output_type": "stream",
     "text": [
      "no. of least correlated vars :  5\n"
     ]
    },
    {
     "data": {
      "text/html": [
       "<div>\n",
       "<style scoped>\n",
       "    .dataframe tbody tr th:only-of-type {\n",
       "        vertical-align: middle;\n",
       "    }\n",
       "\n",
       "    .dataframe tbody tr th {\n",
       "        vertical-align: top;\n",
       "    }\n",
       "\n",
       "    .dataframe thead th {\n",
       "        text-align: right;\n",
       "    }\n",
       "</style>\n",
       "<table border=\"1\" class=\"dataframe\">\n",
       "  <thead>\n",
       "    <tr style=\"text-align: right;\">\n",
       "      <th></th>\n",
       "      <th>X_vars</th>\n",
       "      <th>Corr_with_Y</th>\n",
       "    </tr>\n",
       "  </thead>\n",
       "  <tbody>\n",
       "    <tr>\n",
       "      <th>9</th>\n",
       "      <td>card_5</td>\n",
       "      <td>0.046158</td>\n",
       "    </tr>\n",
       "    <tr>\n",
       "      <th>10</th>\n",
       "      <td>cardtenurecat_3</td>\n",
       "      <td>0.033562</td>\n",
       "    </tr>\n",
       "    <tr>\n",
       "      <th>14</th>\n",
       "      <td>commute_4</td>\n",
       "      <td>0.031888</td>\n",
       "    </tr>\n",
       "    <tr>\n",
       "      <th>21</th>\n",
       "      <td>spousedcat_1</td>\n",
       "      <td>0.034862</td>\n",
       "    </tr>\n",
       "    <tr>\n",
       "      <th>22</th>\n",
       "      <td>spousedcat_4</td>\n",
       "      <td>0.031188</td>\n",
       "    </tr>\n",
       "  </tbody>\n",
       "</table>\n",
       "</div>"
      ],
      "text/plain": [
       "             X_vars  Corr_with_Y\n",
       "9            card_5     0.046158\n",
       "10  cardtenurecat_3     0.033562\n",
       "14        commute_4     0.031888\n",
       "21     spousedcat_1     0.034862\n",
       "22     spousedcat_4     0.031188"
      ]
     },
     "execution_count": 122,
     "metadata": {},
     "output_type": "execute_result"
    }
   ],
   "source": [
    "least_correlated_vars = (linerity_check(X,y,0.05)) # variables which has correlation less than 5% with target variable y\n",
    "print(\"no. of least correlated vars : \" , len(least_correlated_vars))\n",
    "least_correlated_vars"
   ]
  },
  {
   "cell_type": "code",
   "execution_count": 123,
   "metadata": {},
   "outputs": [],
   "source": [
    "# dropping the 5 columns with least correlation with target variable \n",
    "X_after_linearity = X.drop(columns = least_correlated_vars.X_vars, axis=1)"
   ]
  },
  {
   "cell_type": "markdown",
   "metadata": {},
   "source": [
    "### Final list of features after all feature engineering steps"
   ]
  },
  {
   "cell_type": "code",
   "execution_count": 124,
   "metadata": {},
   "outputs": [
    {
     "name": "stdout",
     "output_type": "stream",
     "text": [
      "(5000, 23)\n",
      "\n",
      "Index(['carcatvalue_2', 'carcatvalue_3', 'card2_2', 'card2_3', 'card2_4',\n",
      "       'card2_5', 'card_2', 'card_3', 'card_4', 'card_5', 'cardtenurecat_3',\n",
      "       'cardtenurecat_5', 'carown_0', 'carown_1', 'commute_4', 'inccat_2',\n",
      "       'inccat_3', 'inccat_4', 'inccat_5', 'reason_2', 'retire_1',\n",
      "       'spousedcat_1', 'spousedcat_4'],\n",
      "      dtype='object')\n"
     ]
    }
   ],
   "source": [
    "print(X.shape)\n",
    "print()\n",
    "print(X.columns)"
   ]
  },
  {
   "cell_type": "markdown",
   "metadata": {},
   "source": [
    "     There are 23 variable selected after all feature engineering steps performed, We can go ahead with these variables to         perform model building"
   ]
  },
  {
   "cell_type": "markdown",
   "metadata": {},
   "source": [
    "#### Train-Test Split"
   ]
  },
  {
   "cell_type": "code",
   "execution_count": 135,
   "metadata": {},
   "outputs": [],
   "source": [
    "final_modelling_df = pd.concat([X,y],axis=1)\n",
    "\n",
    "final_modelling_df.to_csv(\"final_modelling_df.csv\") # saving final dataset"
   ]
  },
  {
   "cell_type": "code",
   "execution_count": 136,
   "metadata": {},
   "outputs": [
    {
     "data": {
      "text/plain": [
       "((3500, 24), (1500, 24))"
      ]
     },
     "execution_count": 136,
     "metadata": {},
     "output_type": "execute_result"
    }
   ],
   "source": [
    "train_data , test_data = train_test_split(final_modelling_df, test_size = 0.3, random_state =1111)\n",
    "\n",
    "train_data.shape , test_data.shape"
   ]
  },
  {
   "cell_type": "code",
   "execution_count": 154,
   "metadata": {},
   "outputs": [],
   "source": [
    "train_data.to_csv(\"train_data.csv\")\n",
    "test_data.to_csv(\"test_data.csv\")"
   ]
  },
  {
   "cell_type": "markdown",
   "metadata": {},
   "source": [
    "## Model Building \n",
    "\n",
    "   * ##### Linear OLS Regression"
   ]
  },
  {
   "cell_type": "code",
   "execution_count": 137,
   "metadata": {},
   "outputs": [],
   "source": [
    "eqn = 'total_spend_bx~'+'+'.join(X.columns)"
   ]
  },
  {
   "cell_type": "code",
   "execution_count": 139,
   "metadata": {},
   "outputs": [
    {
     "name": "stdout",
     "output_type": "stream",
     "text": [
      "                            OLS Regression Results                            \n",
      "==============================================================================\n",
      "Dep. Variable:         total_spend_bx   R-squared:                       0.339\n",
      "Model:                            OLS   Adj. R-squared:                  0.335\n",
      "Method:                 Least Squares   F-statistic:                     77.50\n",
      "Date:                Fri, 15 Jan 2021   Prob (F-statistic):          3.62e-291\n",
      "Time:                        15:35:11   Log-Likelihood:                -5652.5\n",
      "No. Observations:                3500   AIC:                         1.135e+04\n",
      "Df Residuals:                    3476   BIC:                         1.150e+04\n",
      "Df Model:                          23                                         \n",
      "Covariance Type:            nonrobust                                         \n",
      "===================================================================================\n",
      "                      coef    std err          t      P>|t|      [0.025      0.975]\n",
      "-----------------------------------------------------------------------------------\n",
      "Intercept          11.0826      0.117     94.775      0.000      10.853      11.312\n",
      "carcatvalue_2       0.1289      0.072      1.793      0.073      -0.012       0.270\n",
      "carcatvalue_3       0.1924      0.112      1.725      0.085      -0.026       0.411\n",
      "card2_2            -0.9542      0.068    -14.057      0.000      -1.087      -0.821\n",
      "card2_3            -0.9095      0.068    -13.453      0.000      -1.042      -0.777\n",
      "card2_4            -1.0064      0.074    -13.549      0.000      -1.152      -0.861\n",
      "card2_5            -0.6933      0.096     -7.192      0.000      -0.882      -0.504\n",
      "card_2             -1.3416      0.066    -20.290      0.000      -1.471      -1.212\n",
      "card_3             -1.4076      0.067    -21.016      0.000      -1.539      -1.276\n",
      "card_4             -1.6172      0.069    -23.524      0.000      -1.752      -1.482\n",
      "card_5             -1.0511      0.110     -9.558      0.000      -1.267      -0.835\n",
      "cardtenurecat_3    -0.0688      0.063     -1.097      0.273      -0.192       0.054\n",
      "cardtenurecat_5     0.0345      0.052      0.668      0.504      -0.067       0.136\n",
      "carown_0           -0.2640      0.094     -2.822      0.005      -0.447      -0.081\n",
      "carown_1           -0.1128      0.080     -1.405      0.160      -0.270       0.045\n",
      "commute_4          -0.0705      0.064     -1.103      0.270      -0.196       0.055\n",
      "inccat_2            0.3832      0.061      6.272      0.000       0.263       0.503\n",
      "inccat_3            0.7326      0.093      7.844      0.000       0.550       0.916\n",
      "inccat_4            1.0207      0.114      8.961      0.000       0.797       1.244\n",
      "inccat_5            1.4567      0.138     10.518      0.000       1.185       1.728\n",
      "reason_2            0.6057      0.083      7.276      0.000       0.442       0.769\n",
      "retire_1           -0.3448      0.073     -4.732      0.000      -0.488      -0.202\n",
      "spousedcat_1       -0.0210      0.064     -0.327      0.743      -0.147       0.105\n",
      "spousedcat_4       -0.0203      0.077     -0.262      0.794      -0.172       0.132\n",
      "==============================================================================\n",
      "Omnibus:                       10.233   Durbin-Watson:                   1.991\n",
      "Prob(Omnibus):                  0.006   Jarque-Bera (JB):               10.256\n",
      "Skew:                          -0.121   Prob(JB):                      0.00593\n",
      "Kurtosis:                       3.107   Cond. No.                         17.4\n",
      "==============================================================================\n",
      "\n",
      "Warnings:\n",
      "[1] Standard Errors assume that the covariance matrix of the errors is correctly specified.\n"
     ]
    }
   ],
   "source": [
    "ols_model = smp.ols(formula =eqn , data = train_data)\n",
    "ols_model_output = ols_model.fit()\n",
    "\n",
    "print(ols_model_output.summary())"
   ]
  },
  {
   "cell_type": "code",
   "execution_count": 152,
   "metadata": {},
   "outputs": [],
   "source": [
    "#getting predicted results from the model output - inverse boxcox\n",
    "train_data['actual_total_spend'] = inv_boxcox(train_data['total_spend_bx'], fitted_lambda)\n",
    "test_data['actual_total_spend'] = inv_boxcox(test_data['total_spend_bx'], fitted_lambda)\n",
    "train_data['pred_total_spend'] =inv_boxcox(ols_model_output.predict(train_data), fitted_lambda)\n",
    "test_data['pred_total_spend'] =inv_boxcox(ols_model_output.predict(test_data), fitted_lambda)"
   ]
  },
  {
   "cell_type": "markdown",
   "metadata": {},
   "source": [
    "##### Calculate scores for ols model ouput"
   ]
  },
  {
   "cell_type": "code",
   "execution_count": 224,
   "metadata": {},
   "outputs": [],
   "source": [
    "def regression_scores(original_value, predicted_value):\n",
    "    MAPE_score = np.mean(np.abs((original_value-predicted_value)/original_value))\n",
    "    MSE_score = metrics.mean_squared_error(original_value, predicted_value)\n",
    "    RMSE_score = np.sqrt(MSE_score)\n",
    "    R2_score = metrics.r2_score(original_value, predicted_value)\n",
    "    return [MAPE_score,MSE_score,RMSE_score, R2_score]"
   ]
  },
  {
   "cell_type": "code",
   "execution_count": 225,
   "metadata": {},
   "outputs": [
    {
     "data": {
      "text/plain": [
       "[0.4768456254932199, 68628.00434300092, 261.9694721584958, 0.31655125061262024]"
      ]
     },
     "execution_count": 225,
     "metadata": {},
     "output_type": "execute_result"
    }
   ],
   "source": [
    "ols_scores_train = regression_scores(train_data.actual_total_spend,train_data.pred_total_spend)\n",
    "ols_scores_train"
   ]
  },
  {
   "cell_type": "code",
   "execution_count": 226,
   "metadata": {},
   "outputs": [
    {
     "data": {
      "text/plain": [
       "[0.5019155179901089, 80696.43913066316, 284.07118673083187, 0.2850607410215691]"
      ]
     },
     "execution_count": 226,
     "metadata": {},
     "output_type": "execute_result"
    }
   ],
   "source": [
    "ols_scores_test = regression_scores(test_data.actual_total_spend,test_data.pred_total_spend)\n",
    "ols_scores_test"
   ]
  },
  {
   "cell_type": "markdown",
   "metadata": {},
   "source": [
    "## Model Building\n",
    "  * ##### Machine Learning Techniques\n",
    "          Lets try different machine learning techniques on the same datasets to compare scores with OLS regression"
   ]
  },
  {
   "cell_type": "code",
   "execution_count": 171,
   "metadata": {},
   "outputs": [
    {
     "data": {
      "text/plain": [
       "((3500, 23), (1500, 23), (3500,), (1500,))"
      ]
     },
     "execution_count": 171,
     "metadata": {},
     "output_type": "execute_result"
    }
   ],
   "source": [
    "# create dataset with final variable for machine learning\n",
    "\n",
    "X_train, X_test, y_train,y_test = train_test_split(X,(inv_boxcox(y,fitted_lambda)),  #we dont have assumption of normality in ML\n",
    "                                                   test_size=0.3 , random_state = 111)\n",
    "\n",
    "X_train.shape, X_test.shape, y_train.shape, y_test.shape"
   ]
  },
  {
   "cell_type": "code",
   "execution_count": 172,
   "metadata": {},
   "outputs": [],
   "source": [
    "from sklearn.model_selection import GridSearchCV"
   ]
  },
  {
   "cell_type": "code",
   "execution_count": 175,
   "metadata": {},
   "outputs": [],
   "source": [
    "def best_model_gridcv(estimator , param_grid , cv = 3 , X_train =X_train , X_test= X_test, y_train = y_train):  \n",
    "    \n",
    "    model = GridSearchCV(estimator=estimator, param_grid=param_grid, cv=cv,n_jobs=-1)\n",
    "    model = model.fit(X_train,y_train)\n",
    "    \n",
    "    best_model = model.best_estimator_\n",
    "    \n",
    "    pred_train = best_model.predict(X_train)\n",
    "    pred_test = best_model.predict(X_test)\n",
    "    \n",
    "    return [best_model,pred_train,pred_test] # output will be best_model_output and predicted value of train & test data"
   ]
  },
  {
   "cell_type": "markdown",
   "metadata": {},
   "source": [
    "##### 1. KNN "
   ]
  },
  {
   "cell_type": "code",
   "execution_count": 177,
   "metadata": {},
   "outputs": [],
   "source": [
    "#KNN required scaled dataset \n",
    "from sklearn.preprocessing import StandardScaler\n",
    "scaler = StandardScaler()"
   ]
  },
  {
   "cell_type": "code",
   "execution_count": 178,
   "metadata": {},
   "outputs": [],
   "source": [
    "X_train_scaled = scaler.fit_transform(X_train)\n",
    "X_test_scaled = scaler.transform(X_test)"
   ]
  },
  {
   "cell_type": "code",
   "execution_count": 179,
   "metadata": {},
   "outputs": [],
   "source": [
    "# define parameter grid for KNN\n",
    "param_grid = [{'n_neighbors': [5,9,11,15]}]"
   ]
  },
  {
   "cell_type": "code",
   "execution_count": 180,
   "metadata": {},
   "outputs": [],
   "source": [
    "knn_model_output , pred_train_knn, pred_test_knn = best_model_gridcv(estimator=KNeighborsRegressor(),\n",
    "                                                                     param_grid=param_grid,\n",
    "                                                                    X_train=X_train_scaled,\n",
    "                                                                    X_test=X_test_scaled)"
   ]
  },
  {
   "cell_type": "code",
   "execution_count": 228,
   "metadata": {},
   "outputs": [
    {
     "name": "stdout",
     "output_type": "stream",
     "text": [
      "train_scores :  [0.5673270209481214, 72849.6151829861, 269.9066786557645, 0.31386974900441167] \n",
      "test_scores :  [0.638349889273864, 79519.83716050436, 281.99261898231373, 0.19823378156342464]\n"
     ]
    }
   ],
   "source": [
    "# getting scores using earlier created udf\n",
    "knn_scores_train = regression_scores(y_train,pred_train_knn)\n",
    "knn_scores_test = regression_scores(y_test,pred_test_knn)\n",
    "print(\"train_scores : \",knn_scores_train ,\"\\ntest_scores : \", knn_scores_test )"
   ]
  },
  {
   "cell_type": "code",
   "execution_count": 187,
   "metadata": {},
   "outputs": [
    {
     "data": {
      "text/plain": [
       "['knn_model_output.pkl']"
      ]
     },
     "execution_count": 187,
     "metadata": {},
     "output_type": "execute_result"
    }
   ],
   "source": [
    "joblib.dump(knn_model_output,\"knn_model_output.pkl\") # saving model output"
   ]
  },
  {
   "cell_type": "markdown",
   "metadata": {},
   "source": [
    "##### 2. Decision Trees "
   ]
  },
  {
   "cell_type": "code",
   "execution_count": 191,
   "metadata": {},
   "outputs": [],
   "source": [
    "param_grid = {'max_depth': np.arange(2, 5),\n",
    "             'max_features': np.arange(4,7)}"
   ]
  },
  {
   "cell_type": "code",
   "execution_count": 192,
   "metadata": {},
   "outputs": [],
   "source": [
    "dt_model_output , pred_train_dt, pred_test_dt = best_model_gridcv(estimator=DecisionTreeRegressor(),\n",
    "                                                                     param_grid=param_grid,\n",
    "                                                                    X_train=X_train,\n",
    "                                                                    X_test=X_test)"
   ]
  },
  {
   "cell_type": "code",
   "execution_count": 229,
   "metadata": {},
   "outputs": [
    {
     "name": "stdout",
     "output_type": "stream",
     "text": [
      "train_scores :  [0.6663341920951045, 87985.11223538156, 296.6228451002747, 0.17131686982422822] \n",
      "test_scores :  [0.7057967420748176, 87918.77623531852, 296.511005251607, 0.11355069038328391]\n"
     ]
    }
   ],
   "source": [
    "dt_scores_train = regression_scores(y_train,pred_train_dt)\n",
    "dt_scores_test = regression_scores(y_test,pred_test_dt)\n",
    "print(\"train_scores : \",dt_scores_train ,\"\\ntest_scores : \", dt_scores_test )"
   ]
  },
  {
   "cell_type": "code",
   "execution_count": 196,
   "metadata": {},
   "outputs": [
    {
     "data": {
      "text/plain": [
       "['dt_model_output.pkl']"
      ]
     },
     "execution_count": 196,
     "metadata": {},
     "output_type": "execute_result"
    }
   ],
   "source": [
    "joblib.dump(dt_model_output,\"dt_model_output.pkl\") # saving model output"
   ]
  },
  {
   "cell_type": "markdown",
   "metadata": {},
   "source": [
    "###### 3. Random Forest"
   ]
  },
  {
   "cell_type": "code",
   "execution_count": 199,
   "metadata": {},
   "outputs": [],
   "source": [
    "param_grid = {'n_estimators': [50,80,100,150,200,300],\n",
    "               'max_depth':[4,6,8,10]}"
   ]
  },
  {
   "cell_type": "code",
   "execution_count": 200,
   "metadata": {},
   "outputs": [],
   "source": [
    "rf_model_output , pred_train_rf, pred_test_rf = best_model_gridcv(estimator=RandomForestRegressor(),\n",
    "                                                                     param_grid=param_grid)"
   ]
  },
  {
   "cell_type": "code",
   "execution_count": 230,
   "metadata": {},
   "outputs": [
    {
     "name": "stdout",
     "output_type": "stream",
     "text": [
      "train_scores :  [0.551287168089666, 63029.393099057015, 251.05655358714898, 0.4063609917701294] \n",
      "test_scores :  [0.6252677637953074, 76647.24036743383, 276.8523801007205, 0.22719700822628208]\n"
     ]
    }
   ],
   "source": [
    "rf_scores_train = regression_scores(y_train,pred_train_rf)\n",
    "rf_scores_test = regression_scores(y_test,pred_test_rf)\n",
    "print(\"train_scores : \",rf_scores_train ,\"\\ntest_scores : \", rf_scores_test )"
   ]
  },
  {
   "cell_type": "code",
   "execution_count": 205,
   "metadata": {},
   "outputs": [
    {
     "data": {
      "text/plain": [
       "['rf_model_output.pkl']"
      ]
     },
     "execution_count": 205,
     "metadata": {},
     "output_type": "execute_result"
    }
   ],
   "source": [
    "joblib.dump(rf_model_output,\"rf_model_output.pkl\") # saving model output"
   ]
  },
  {
   "cell_type": "markdown",
   "metadata": {},
   "source": [
    "###### 4. Gradient Boost"
   ]
  },
  {
   "cell_type": "code",
   "execution_count": 208,
   "metadata": {},
   "outputs": [],
   "source": [
    "param_grid = {'n_estimators': [60,100,150,200,300],\n",
    "               'max_depth':[2,4,6,8],\n",
    "               'learning_rate': [10 ** x for x in range(-4, 2)]}"
   ]
  },
  {
   "cell_type": "code",
   "execution_count": 209,
   "metadata": {},
   "outputs": [],
   "source": [
    "gbm_model_output , pred_train_gbm, pred_test_gbm = best_model_gridcv(estimator=GradientBoostingRegressor(),\n",
    "                                                                     param_grid=param_grid)"
   ]
  },
  {
   "cell_type": "code",
   "execution_count": 231,
   "metadata": {},
   "outputs": [
    {
     "name": "stdout",
     "output_type": "stream",
     "text": [
      "train_scores :  [0.5566428770860086, 69391.15188241187, 263.4220034135567, 0.3464431028446696] \n",
      "test_scores :  [0.5859963124490893, 68963.26363096478, 262.60857493799546, 0.3046714245548571]\n"
     ]
    }
   ],
   "source": [
    "gbm_scores_train = regression_scores(y_train,pred_train_gbm)\n",
    "gbm_scores_test = regression_scores(y_test,pred_test_gbm)\n",
    "print(\"train_scores : \",gbm_scores_train ,\"\\ntest_scores : \", gbm_scores_test )"
   ]
  },
  {
   "cell_type": "code",
   "execution_count": 211,
   "metadata": {},
   "outputs": [
    {
     "data": {
      "text/plain": [
       "['gbm_model_output.pkl']"
      ]
     },
     "execution_count": 211,
     "metadata": {},
     "output_type": "execute_result"
    }
   ],
   "source": [
    "joblib.dump(gbm_model_output,\"gbm_model_output.pkl\") # saving model output"
   ]
  },
  {
   "cell_type": "markdown",
   "metadata": {},
   "source": [
    "##### 5. SVM"
   ]
  },
  {
   "cell_type": "code",
   "execution_count": 214,
   "metadata": {},
   "outputs": [],
   "source": [
    "param_grid = [{'C': [1,0.1,0.001,10,100],\n",
    "                    'gamma':[0.0001, 0.001, 0.01, 0.1],\n",
    "                    'kernel':['linear','rbf','poly']}]\n"
   ]
  },
  {
   "cell_type": "code",
   "execution_count": 215,
   "metadata": {},
   "outputs": [],
   "source": [
    "svr_model_output , pred_train_svr, pred_test_svr = best_model_gridcv(estimator=SVR(),\n",
    "                                                                     param_grid=param_grid)"
   ]
  },
  {
   "cell_type": "code",
   "execution_count": 232,
   "metadata": {},
   "outputs": [
    {
     "name": "stdout",
     "output_type": "stream",
     "text": [
      "train_scores :  [0.4863313159092339, 75194.84509620111, 274.2167848549777, 0.2917813249962038] \n",
      "test_scores :  [0.5047466568978033, 71092.71957990553, 266.63218031570295, 0.28320098517174563]\n"
     ]
    }
   ],
   "source": [
    "svr_scores_train = regression_scores(y_train,pred_train_svr)\n",
    "svr_scores_test = regression_scores(y_test,pred_test_svr)\n",
    "print(\"train_scores : \",svr_scores_train ,\"\\ntest_scores : \", svr_scores_test )"
   ]
  },
  {
   "cell_type": "code",
   "execution_count": 217,
   "metadata": {},
   "outputs": [
    {
     "data": {
      "text/plain": [
       "['svr_model_output.pkl']"
      ]
     },
     "execution_count": 217,
     "metadata": {},
     "output_type": "execute_result"
    }
   ],
   "source": [
    "joblib.dump(svr_model_output,\"svr_model_output.pkl\") # saving model output"
   ]
  },
  {
   "cell_type": "markdown",
   "metadata": {},
   "source": [
    "* ### lets compare all model scores \n",
    "\n",
    "      on both Train(development) dataset & Test(Validation) dataset"
   ]
  },
  {
   "cell_type": "code",
   "execution_count": 236,
   "metadata": {},
   "outputs": [],
   "source": [
    "train_scores = [ols_scores_train,knn_scores_train,dt_scores_train,rf_scores_train,gbm_scores_train,svr_scores_train]\n",
    "test_scores = [ols_scores_test,knn_scores_test,dt_scores_test,rf_scores_test,gbm_scores_test,svr_scores_test]\n",
    "model_names = ['Linear Regression','KNN','Decision Trees','Random Forest', 'Gradient Boost' , 'Support Vector']\n",
    "\n",
    "def get_scores_table(List_of_scores):\n",
    "    MAPE = []\n",
    "    MSE = []\n",
    "    RMSE = []\n",
    "    r_square = []\n",
    "    for model_score in List_of_scores:\n",
    "        MAPE.append(model_score[0])\n",
    "        MSE.append(model_score[1])\n",
    "        RMSE.append(model_score[2])\n",
    "        r_square.append(model_score[3])\n",
    "        \n",
    "    return pd.DataFrame({'Models':model_names, 'MAPE':MAPE ,'MSE':MSE,'RMSE':RMSE, 'R_Square':r_square})"
   ]
  },
  {
   "cell_type": "code",
   "execution_count": 238,
   "metadata": {},
   "outputs": [
    {
     "data": {
      "text/html": [
       "<div>\n",
       "<style scoped>\n",
       "    .dataframe tbody tr th:only-of-type {\n",
       "        vertical-align: middle;\n",
       "    }\n",
       "\n",
       "    .dataframe tbody tr th {\n",
       "        vertical-align: top;\n",
       "    }\n",
       "\n",
       "    .dataframe thead th {\n",
       "        text-align: right;\n",
       "    }\n",
       "</style>\n",
       "<table border=\"1\" class=\"dataframe\">\n",
       "  <thead>\n",
       "    <tr style=\"text-align: right;\">\n",
       "      <th></th>\n",
       "      <th>Models</th>\n",
       "      <th>MAPE</th>\n",
       "      <th>MSE</th>\n",
       "      <th>RMSE</th>\n",
       "      <th>R_Square</th>\n",
       "    </tr>\n",
       "  </thead>\n",
       "  <tbody>\n",
       "    <tr>\n",
       "      <th>0</th>\n",
       "      <td>Linear Regression</td>\n",
       "      <td>0.476846</td>\n",
       "      <td>68628.004343</td>\n",
       "      <td>261.969472</td>\n",
       "      <td>0.316551</td>\n",
       "    </tr>\n",
       "    <tr>\n",
       "      <th>1</th>\n",
       "      <td>KNN</td>\n",
       "      <td>0.567327</td>\n",
       "      <td>72849.615183</td>\n",
       "      <td>269.906679</td>\n",
       "      <td>0.313870</td>\n",
       "    </tr>\n",
       "    <tr>\n",
       "      <th>2</th>\n",
       "      <td>Decision Trees</td>\n",
       "      <td>0.666334</td>\n",
       "      <td>87985.112235</td>\n",
       "      <td>296.622845</td>\n",
       "      <td>0.171317</td>\n",
       "    </tr>\n",
       "    <tr>\n",
       "      <th>3</th>\n",
       "      <td>Random Forest</td>\n",
       "      <td>0.551287</td>\n",
       "      <td>63029.393099</td>\n",
       "      <td>251.056554</td>\n",
       "      <td>0.406361</td>\n",
       "    </tr>\n",
       "    <tr>\n",
       "      <th>4</th>\n",
       "      <td>Gradient Boost</td>\n",
       "      <td>0.556643</td>\n",
       "      <td>69391.151882</td>\n",
       "      <td>263.422003</td>\n",
       "      <td>0.346443</td>\n",
       "    </tr>\n",
       "    <tr>\n",
       "      <th>5</th>\n",
       "      <td>Support Vector</td>\n",
       "      <td>0.486331</td>\n",
       "      <td>75194.845096</td>\n",
       "      <td>274.216785</td>\n",
       "      <td>0.291781</td>\n",
       "    </tr>\n",
       "  </tbody>\n",
       "</table>\n",
       "</div>"
      ],
      "text/plain": [
       "              Models      MAPE           MSE        RMSE  R_Square\n",
       "0  Linear Regression  0.476846  68628.004343  261.969472  0.316551\n",
       "1                KNN  0.567327  72849.615183  269.906679  0.313870\n",
       "2     Decision Trees  0.666334  87985.112235  296.622845  0.171317\n",
       "3      Random Forest  0.551287  63029.393099  251.056554  0.406361\n",
       "4     Gradient Boost  0.556643  69391.151882  263.422003  0.346443\n",
       "5     Support Vector  0.486331  75194.845096  274.216785  0.291781"
      ]
     },
     "execution_count": 238,
     "metadata": {},
     "output_type": "execute_result"
    }
   ],
   "source": [
    "Scores_development = get_scores_table(train_scores)\n",
    "Scores_development.to_csv(\"development_scores_df.csv\")\n",
    "Scores_development"
   ]
  },
  {
   "cell_type": "code",
   "execution_count": 240,
   "metadata": {},
   "outputs": [
    {
     "data": {
      "text/html": [
       "<div>\n",
       "<style scoped>\n",
       "    .dataframe tbody tr th:only-of-type {\n",
       "        vertical-align: middle;\n",
       "    }\n",
       "\n",
       "    .dataframe tbody tr th {\n",
       "        vertical-align: top;\n",
       "    }\n",
       "\n",
       "    .dataframe thead th {\n",
       "        text-align: right;\n",
       "    }\n",
       "</style>\n",
       "<table border=\"1\" class=\"dataframe\">\n",
       "  <thead>\n",
       "    <tr style=\"text-align: right;\">\n",
       "      <th></th>\n",
       "      <th>Models</th>\n",
       "      <th>MAPE</th>\n",
       "      <th>MSE</th>\n",
       "      <th>RMSE</th>\n",
       "      <th>R_Square</th>\n",
       "    </tr>\n",
       "  </thead>\n",
       "  <tbody>\n",
       "    <tr>\n",
       "      <th>0</th>\n",
       "      <td>Linear Regression</td>\n",
       "      <td>0.501916</td>\n",
       "      <td>80696.439131</td>\n",
       "      <td>284.071187</td>\n",
       "      <td>0.285061</td>\n",
       "    </tr>\n",
       "    <tr>\n",
       "      <th>1</th>\n",
       "      <td>KNN</td>\n",
       "      <td>0.638350</td>\n",
       "      <td>79519.837161</td>\n",
       "      <td>281.992619</td>\n",
       "      <td>0.198234</td>\n",
       "    </tr>\n",
       "    <tr>\n",
       "      <th>2</th>\n",
       "      <td>Decision Trees</td>\n",
       "      <td>0.705797</td>\n",
       "      <td>87918.776235</td>\n",
       "      <td>296.511005</td>\n",
       "      <td>0.113551</td>\n",
       "    </tr>\n",
       "    <tr>\n",
       "      <th>3</th>\n",
       "      <td>Random Forest</td>\n",
       "      <td>0.625268</td>\n",
       "      <td>76647.240367</td>\n",
       "      <td>276.852380</td>\n",
       "      <td>0.227197</td>\n",
       "    </tr>\n",
       "    <tr>\n",
       "      <th>4</th>\n",
       "      <td>Gradient Boost</td>\n",
       "      <td>0.585996</td>\n",
       "      <td>68963.263631</td>\n",
       "      <td>262.608575</td>\n",
       "      <td>0.304671</td>\n",
       "    </tr>\n",
       "    <tr>\n",
       "      <th>5</th>\n",
       "      <td>Support Vector</td>\n",
       "      <td>0.504747</td>\n",
       "      <td>71092.719580</td>\n",
       "      <td>266.632180</td>\n",
       "      <td>0.283201</td>\n",
       "    </tr>\n",
       "  </tbody>\n",
       "</table>\n",
       "</div>"
      ],
      "text/plain": [
       "              Models      MAPE           MSE        RMSE  R_Square\n",
       "0  Linear Regression  0.501916  80696.439131  284.071187  0.285061\n",
       "1                KNN  0.638350  79519.837161  281.992619  0.198234\n",
       "2     Decision Trees  0.705797  87918.776235  296.511005  0.113551\n",
       "3      Random Forest  0.625268  76647.240367  276.852380  0.227197\n",
       "4     Gradient Boost  0.585996  68963.263631  262.608575  0.304671\n",
       "5     Support Vector  0.504747  71092.719580  266.632180  0.283201"
      ]
     },
     "execution_count": 240,
     "metadata": {},
     "output_type": "execute_result"
    }
   ],
   "source": [
    "Scores_validation = get_scores_table(test_scores)\n",
    "Scores_validation.to_csv(\"Validation_scores_df.csv\")\n",
    "Scores_validation"
   ]
  },
  {
   "cell_type": "markdown",
   "metadata": {},
   "source": [
    "    The ideal model should give least error and higher rsquare\n",
    "    \n",
    "    lets visualize the results"
   ]
  },
  {
   "cell_type": "code",
   "execution_count": 272,
   "metadata": {},
   "outputs": [],
   "source": [
    "def scores_plot(df , x, y1_axis , y2_axis, title):\n",
    "    x = df[x]\n",
    "    fig, ax1 = plt.subplots()\n",
    "    fig.set_figheight(6)\n",
    "    fig.set_figwidth(10)\n",
    "\n",
    "    color = 'tab:blue'\n",
    "    ax1.set_xlabel('Models')\n",
    "    ax1.set_ylabel(df[y1_axis].name, color=color)\n",
    "    ax1.plot(x, df[y1_axis], \"-\",color = color, label = df[y1_axis].name)\n",
    "    #ax1.axhline(y=ols_model_line, color='darkblue', linestyle='--')   ## horizontal line of OLS model Rsquare on the training dataset\n",
    "    ax1.tick_params(axis='y', labelcolor=color)\n",
    "\n",
    "    ax2 = ax1.twinx()  # instantiate a second axes that shares the same x-axis\n",
    "    color = 'tab:red'\n",
    "    ax2.set_ylabel(df[y2_axis].name, color=color)\n",
    "    ax2.plot(x, df[y2_axis],\"--\" ,color = color, label = df[y2_axis].name)\n",
    "    ax2.tick_params(axis='y', labelcolor=color)\n",
    "    plt.title(title)\n",
    "    plt.grid(True)\n",
    "    fig.legend()\n",
    "    fig.tight_layout() \n",
    "    plt.show()"
   ]
  },
  {
   "cell_type": "code",
   "execution_count": 274,
   "metadata": {},
   "outputs": [
    {
     "data": {
      "image/png": "[encoded data removed]",
      "text/plain": [
       "<Figure size 720x432 with 2 Axes>"
      ]
     },
     "metadata": {
      "needs_background": "light"
     },
     "output_type": "display_data"
    }
   ],
   "source": [
    "scores_plot(Scores_development,'Models','R_Square','RMSE',title=\"RMSE vs R-Square on Development data\")"
   ]
  },
  {
   "cell_type": "markdown",
   "metadata": {},
   "source": [
    "            * Random Forest Regressor is giving best results with highest R_square and least RMSE score on development data"
   ]
  },
  {
   "cell_type": "code",
   "execution_count": 276,
   "metadata": {},
   "outputs": [
    {
     "data": {
      "image/png": "[encoded data removed]",
      "text/plain": [
       "<Figure size 720x432 with 2 Axes>"
      ]
     },
     "metadata": {
      "needs_background": "light"
     },
     "output_type": "display_data"
    }
   ],
   "source": [
    "scores_plot(Scores_validation,'Models','R_Square','RMSE',title=\"RMSE vs R-Square on Validation data\")"
   ]
  },
  {
   "cell_type": "markdown",
   "metadata": {},
   "source": [
    "           * Gradient Boost Regressor is giving best results with highest R_square and least RMSE score on Validation data\n",
    "          \n",
    "  *  ######  Random Forest is giving not very significant result in the validation dataset thus considering overfitting ... hence considered **GBM** as the best Regressor"
   ]
  },
  {
   "cell_type": "markdown",
   "metadata": {},
   "source": [
    "---------------------------------------------------------------------------------\n",
    "## Model Validation\n",
    "\n",
    "\n",
    "  * ###  Linear Regression Assumption Check\n",
    "              Residuals of Linear model should follow normal distribution \n",
    "    "
   ]
  },
  {
   "cell_type": "code",
   "execution_count": 282,
   "metadata": {},
   "outputs": [
    {
     "data": {
      "image/png": "[encoded data removed]",
      "text/plain": [
       "<Figure size 432x288 with 1 Axes>"
      ]
     },
     "metadata": {
      "needs_background": "light"
     },
     "output_type": "display_data"
    }
   ],
   "source": [
    "#Checking Errors distribution\n",
    "plt.title(\"residual distribution\")\n",
    "sns.distplot(ols_model_output.resid)\n",
    "plt.show()"
   ]
  },
  {
   "cell_type": "code",
   "execution_count": 283,
   "metadata": {},
   "outputs": [
    {
     "data": {
      "image/png": "[encoded data removed]",
      "text/plain": [
       "<Figure size 432x288 with 1 Axes>"
      ]
     },
     "metadata": {
      "needs_background": "light"
     },
     "output_type": "display_data"
    }
   ],
   "source": [
    "stats.probplot(ols_model_output.resid, dist=\"norm\", plot=plt )\n",
    "plt.show()"
   ]
  },
  {
   "cell_type": "markdown",
   "metadata": {},
   "source": [
    "        Both above plots shows that residuals are normally distrbuted "
   ]
  },
  {
   "cell_type": "markdown",
   "metadata": {},
   "source": [
    "\n",
    "  * ###  linearity between actual and predicted\n",
    "              Actual data & Predicted data should follow linear relationship"
   ]
  },
  {
   "cell_type": "code",
   "execution_count": 288,
   "metadata": {},
   "outputs": [
    {
     "data": {
      "image/png": "[encoded data removed]",
      "text/plain": [
       "<Figure size 360x360 with 1 Axes>"
      ]
     },
     "metadata": {
      "needs_background": "light"
     },
     "output_type": "display_data"
    }
   ],
   "source": [
    "sns.lmplot(x='actual_total_spend', y='pred_total_spend', data=train_data)\n",
    "plt.show()"
   ]
  },
  {
   "cell_type": "markdown",
   "metadata": {},
   "source": [
    "                predicted results has linear relationship with actual results"
   ]
  },
  {
   "cell_type": "markdown",
   "metadata": {},
   "source": [
    " -----------------------------------------------------------------------\n",
    "   *  ###  Decile Analysis\n"
   ]
  },
  {
   "cell_type": "code",
   "execution_count": 290,
   "metadata": {},
   "outputs": [],
   "source": [
    "train_data['Deciles']=pd.qcut(train_data['pred_total_spend'],10, labels=False)\n",
    "test_data['Deciles']=pd.qcut(test_data['pred_total_spend'],10, labels=False)"
   ]
  },
  {
   "cell_type": "code",
   "execution_count": 291,
   "metadata": {},
   "outputs": [
    {
     "data": {
      "text/html": [
       "<div>\n",
       "<style scoped>\n",
       "    .dataframe tbody tr th:only-of-type {\n",
       "        vertical-align: middle;\n",
       "    }\n",
       "\n",
       "    .dataframe tbody tr th {\n",
       "        vertical-align: top;\n",
       "    }\n",
       "\n",
       "    .dataframe thead th {\n",
       "        text-align: right;\n",
       "    }\n",
       "</style>\n",
       "<table border=\"1\" class=\"dataframe\">\n",
       "  <thead>\n",
       "    <tr style=\"text-align: right;\">\n",
       "      <th></th>\n",
       "      <th>pred_total_spend</th>\n",
       "      <th>actual_total_spend</th>\n",
       "    </tr>\n",
       "    <tr>\n",
       "      <th>Deciles</th>\n",
       "      <th></th>\n",
       "      <th></th>\n",
       "    </tr>\n",
       "  </thead>\n",
       "  <tbody>\n",
       "    <tr>\n",
       "      <th>9</th>\n",
       "      <td>819.222972</td>\n",
       "      <td>897.862996</td>\n",
       "    </tr>\n",
       "    <tr>\n",
       "      <th>8</th>\n",
       "      <td>624.049556</td>\n",
       "      <td>688.369284</td>\n",
       "    </tr>\n",
       "    <tr>\n",
       "      <th>7</th>\n",
       "      <td>534.262454</td>\n",
       "      <td>586.969812</td>\n",
       "    </tr>\n",
       "    <tr>\n",
       "      <th>6</th>\n",
       "      <td>472.039552</td>\n",
       "      <td>524.080299</td>\n",
       "    </tr>\n",
       "    <tr>\n",
       "      <th>5</th>\n",
       "      <td>423.588460</td>\n",
       "      <td>464.710125</td>\n",
       "    </tr>\n",
       "    <tr>\n",
       "      <th>4</th>\n",
       "      <td>380.642310</td>\n",
       "      <td>419.038246</td>\n",
       "    </tr>\n",
       "    <tr>\n",
       "      <th>3</th>\n",
       "      <td>340.153932</td>\n",
       "      <td>393.304656</td>\n",
       "    </tr>\n",
       "    <tr>\n",
       "      <th>2</th>\n",
       "      <td>313.049641</td>\n",
       "      <td>347.205315</td>\n",
       "    </tr>\n",
       "    <tr>\n",
       "      <th>1</th>\n",
       "      <td>281.233940</td>\n",
       "      <td>319.828194</td>\n",
       "    </tr>\n",
       "    <tr>\n",
       "      <th>0</th>\n",
       "      <td>235.910960</td>\n",
       "      <td>270.042870</td>\n",
       "    </tr>\n",
       "  </tbody>\n",
       "</table>\n",
       "</div>"
      ],
      "text/plain": [
       "         pred_total_spend  actual_total_spend\n",
       "Deciles                                      \n",
       "9              819.222972          897.862996\n",
       "8              624.049556          688.369284\n",
       "7              534.262454          586.969812\n",
       "6              472.039552          524.080299\n",
       "5              423.588460          464.710125\n",
       "4              380.642310          419.038246\n",
       "3              340.153932          393.304656\n",
       "2              313.049641          347.205315\n",
       "1              281.233940          319.828194\n",
       "0              235.910960          270.042870"
      ]
     },
     "execution_count": 291,
     "metadata": {},
     "output_type": "execute_result"
    }
   ],
   "source": [
    "# decile analysis train\n",
    "Predicted_avg = train_data[['Deciles','pred_total_spend']].groupby(train_data.Deciles).mean().sort_index(ascending=False)['pred_total_spend']\n",
    "Actual_avg = train_data[['Deciles','actual_total_spend']].groupby(train_data.Deciles).mean().sort_index(ascending=False)['actual_total_spend']\n",
    "\n",
    "Decile_analysis_train = pd.concat([Predicted_avg, Actual_avg], axis=1)\n",
    "\n",
    "Decile_analysis_train"
   ]
  },
  {
   "cell_type": "code",
   "execution_count": 292,
   "metadata": {},
   "outputs": [
    {
     "data": {
      "text/html": [
       "<div>\n",
       "<style scoped>\n",
       "    .dataframe tbody tr th:only-of-type {\n",
       "        vertical-align: middle;\n",
       "    }\n",
       "\n",
       "    .dataframe tbody tr th {\n",
       "        vertical-align: top;\n",
       "    }\n",
       "\n",
       "    .dataframe thead th {\n",
       "        text-align: right;\n",
       "    }\n",
       "</style>\n",
       "<table border=\"1\" class=\"dataframe\">\n",
       "  <thead>\n",
       "    <tr style=\"text-align: right;\">\n",
       "      <th></th>\n",
       "      <th>pred_total_spend</th>\n",
       "      <th>actual_total_spend</th>\n",
       "    </tr>\n",
       "    <tr>\n",
       "      <th>Deciles</th>\n",
       "      <th></th>\n",
       "      <th></th>\n",
       "    </tr>\n",
       "  </thead>\n",
       "  <tbody>\n",
       "    <tr>\n",
       "      <th>9</th>\n",
       "      <td>816.070135</td>\n",
       "      <td>916.689859</td>\n",
       "    </tr>\n",
       "    <tr>\n",
       "      <th>8</th>\n",
       "      <td>611.371262</td>\n",
       "      <td>694.674159</td>\n",
       "    </tr>\n",
       "    <tr>\n",
       "      <th>7</th>\n",
       "      <td>532.423062</td>\n",
       "      <td>600.266995</td>\n",
       "    </tr>\n",
       "    <tr>\n",
       "      <th>6</th>\n",
       "      <td>467.676993</td>\n",
       "      <td>560.453365</td>\n",
       "    </tr>\n",
       "    <tr>\n",
       "      <th>5</th>\n",
       "      <td>415.366373</td>\n",
       "      <td>509.703283</td>\n",
       "    </tr>\n",
       "    <tr>\n",
       "      <th>4</th>\n",
       "      <td>373.434295</td>\n",
       "      <td>406.885317</td>\n",
       "    </tr>\n",
       "    <tr>\n",
       "      <th>3</th>\n",
       "      <td>336.385715</td>\n",
       "      <td>378.613029</td>\n",
       "    </tr>\n",
       "    <tr>\n",
       "      <th>2</th>\n",
       "      <td>311.045738</td>\n",
       "      <td>334.850199</td>\n",
       "    </tr>\n",
       "    <tr>\n",
       "      <th>1</th>\n",
       "      <td>278.054735</td>\n",
       "      <td>322.851568</td>\n",
       "    </tr>\n",
       "    <tr>\n",
       "      <th>0</th>\n",
       "      <td>233.289422</td>\n",
       "      <td>288.316221</td>\n",
       "    </tr>\n",
       "  </tbody>\n",
       "</table>\n",
       "</div>"
      ],
      "text/plain": [
       "         pred_total_spend  actual_total_spend\n",
       "Deciles                                      \n",
       "9              816.070135          916.689859\n",
       "8              611.371262          694.674159\n",
       "7              532.423062          600.266995\n",
       "6              467.676993          560.453365\n",
       "5              415.366373          509.703283\n",
       "4              373.434295          406.885317\n",
       "3              336.385715          378.613029\n",
       "2              311.045738          334.850199\n",
       "1              278.054735          322.851568\n",
       "0              233.289422          288.316221"
      ]
     },
     "execution_count": 292,
     "metadata": {},
     "output_type": "execute_result"
    }
   ],
   "source": [
    "# Decile Analysis for test data\n",
    "Predicted_avg = test_data[['Deciles','pred_total_spend']].groupby(test_data.Deciles).mean().sort_index(ascending=False)['pred_total_spend']\n",
    "Actual_avg = test_data[['Deciles','actual_total_spend']].groupby(test_data.Deciles).mean().sort_index(ascending=False)['actual_total_spend']\n",
    "\n",
    "Decile_analysis_test = pd.concat([Predicted_avg, Actual_avg], axis=1)\n",
    "\n",
    "Decile_analysis_test"
   ]
  },
  {
   "cell_type": "code",
   "execution_count": 293,
   "metadata": {},
   "outputs": [],
   "source": [
    "#Exporting Decile analysis in csv for further analysis\n",
    "Decile_analysis_train.to_csv('Decile_analysis_train.csv')\n",
    "Decile_analysis_test.to_csv('Decile_analysis_test.csv')"
   ]
  },
  {
   "cell_type": "markdown",
   "metadata": {},
   "source": [
    "------------------------------------------------------------------\n",
    "### Predict total spend based on OLS model results\n",
    "\n",
    "         Following is the final equation dervied from the OLS model results      "
   ]
  },
  {
   "cell_type": "code",
   "execution_count": 340,
   "metadata": {},
   "outputs": [
    {
     "name": "stdout",
     "output_type": "stream",
     "text": [
      "+0.1289417445997489*carcatvalue_2+0.1924311616238476*carcatvalue_3-0.9542247716301664*card2_2-0.9094950623567607*card2_3-1.0063798557683572*card2_4-0.6932913185621515*card2_5-1.3415761346074162*card_2-1.4076304320118647*card_3-1.6172205141156264*card_4-1.0510754069770631*card_5-0.0687928269174283*cardtenurecat_3+0.034500435133878515*cardtenurecat_5-0.263996799379273*carown_0-0.11275630095850697*carown_1-0.07046337092576256*commute_4+0.3832113347112339*inccat_2+0.7326230709366569*inccat_3+1.0207169072476747*inccat_4+1.456655707926923*inccat_5+0.6056800473418995*reason_2-0.344770482998056*retire_1-0.02102423346631989*spousedcat_1-0.020272866575350622*spousedcat_4+11.082557770699424\n"
     ]
    }
   ],
   "source": [
    "eqn = \"\"\n",
    "for ind in range(len(ols_model_output.params)):\n",
    "    if ind != 0:\n",
    "        if (ols_model_output.params[ind] > 0):\n",
    "            eqn = eqn + \"+\" +  str(ols_model_output.params[ind]) + \"*\" + ols_model_output.params.index[ind]\n",
    "        else:\n",
    "            eqn = eqn + str(ols_model_output.params[ind]) + \"*\" + ols_model_output.params.index[ind]\n",
    "    \n",
    "final_eqn = print(eqn + '+'+str(ols_model_output.params[0])) #adding intercept"
   ]
  },
  {
   "cell_type": "code",
   "execution_count": 345,
   "metadata": {},
   "outputs": [],
   "source": [
    "ols_model_params = ols_model_output.params.reset_index()\n",
    "ols_model_params.columns = ['column', 'coeficient']\n",
    "ols_model_params.to_csv(\"ols_model_params.csv\")  # the table will be used to create predicting tool in excel"
   ]
  },
  {
   "cell_type": "code",
   "execution_count": null,
   "metadata": {},
   "outputs": [],
   "source": [
    "# final equation\n",
    "#0.1289417445997489*carcatvalue_2+0.1924311616238476*carcatvalue_3-0.9542247716301664*card2_2-0.9094950623567607*card2_3\n",
    "#-1.0063798557683572*card2_4-0.6932913185621515*card2_5-1.3415761346074162*card_2-1.4076304320118647*card_3\n",
    "#-1.6172205141156264*card_4-1.0510754069770631*card_5-0.0687928269174283*cardtenurecat_3+0.034500435133878515*cardtenurecat_5\n",
    "#-0.263996799379273*carown_0-0.11275630095850697*carown_1-0.07046337092576256*commute_4+0.3832113347112339*inccat_2+\n",
    "#0.7326230709366569*inccat_3+1.0207169072476747*inccat_4+1.456655707926923*inccat_5+0.6056800473418995*reason_2\n",
    "#-0.344770482998056*retire_1-0.02102423346631989*spousedcat_1-0.020272866575350622*spousedcat_4+11.082557770699424"
   ]
  },
  {
   "cell_type": "markdown",
   "metadata": {},
   "source": [
    "------------------------------------------------------------------------------------------------\n",
    "\n",
    "## Feature Importance :\n",
    "\n",
    "            Identifying Key Drivers for Spend of the customers"
   ]
  },
  {
   "cell_type": "code",
   "execution_count": 316,
   "metadata": {},
   "outputs": [
    {
     "data": {
      "image/png": "[encoded data removed]",
      "text/plain": [
       "<Figure size 432x288 with 1 Axes>"
      ]
     },
     "metadata": {
      "needs_background": "light"
     },
     "output_type": "display_data"
    }
   ],
   "source": [
    "# Ranking based on ML output\n",
    "indices = np.argsort(rf_model_output.feature_importances_)[::-1]\n",
    "feature_rank_rf = pd.DataFrame( columns = ['rank', 'feature', 'importance'] )\n",
    "for f in range(X_train.shape[1]):\n",
    "    feature_rank_rf.loc[f] = [f+1,\n",
    "                         X_train.columns[indices[f]],\n",
    "                         rf_model_output.feature_importances_[indices[f]]]\n",
    "sns.barplot( y = 'feature', x = 'importance', data = feature_rank_rf )\n",
    "plt.show()"
   ]
  },
  {
   "cell_type": "code",
   "execution_count": 307,
   "metadata": {},
   "outputs": [
    {
     "data": {
      "image/png": "[encoded data removed]",
      "text/plain": [
       "<Figure size 432x288 with 1 Axes>"
      ]
     },
     "metadata": {
      "needs_background": "light"
     },
     "output_type": "display_data"
    }
   ],
   "source": [
    "#ranking based on OLS output t value\n",
    "feature_rank_ols = ols_model_output.pvalues.sort_values(ascending = False).reset_index()\n",
    "feature_rank_ols.columns = ['feature', 'importance']\n",
    "sns.barplot( y = 'feature', x = 'importance', data = feature_rank_ols )\n",
    "plt.show()"
   ]
  },
  {
   "cell_type": "code",
   "execution_count": 318,
   "metadata": {},
   "outputs": [],
   "source": [
    "# exporting both output data to csv for identifying key drivers\n",
    "feature_rank_rf.to_csv(\"feature_rank_rf.csv\")\n",
    "feature_rank_ols.to_csv(\"feature_rank_ols.csv\")"
   ]
  },
  {
   "cell_type": "markdown",
   "metadata": {},
   "source": [
    "\n",
    "-------------------------------------------------------------------------------------------------\n",
    "#### THE END"
   ]
  },
  {
   "cell_type": "code",
   "execution_count": 352,
   "metadata": {},
   "outputs": [],
   "source": [
    "# extracting all final datasets \n",
    "train_data.to_csv(\"train_data.csv\")\n",
    "test_data.to_csv(\"test_data.csv\")"
   ]
  }
 ],
 "metadata": {
  "kernelspec": {
   "display_name": "Python 3",
   "language": "python",
   "name": "python3"
  },
  "language_info": {
   "codemirror_mode": {
    "name": "ipython",
    "version": 3
   },
   "file_extension": ".py",
   "mimetype": "text/x-python",
   "name": "python",
   "nbconvert_exporter": "python",
   "pygments_lexer": "ipython3",
   "version": "3.7.6"
  }
 },
 "nbformat": 4,
 "nbformat_minor": 4
}
